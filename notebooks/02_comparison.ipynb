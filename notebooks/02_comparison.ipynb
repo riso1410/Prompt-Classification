{
 "cells": [
  {
   "cell_type": "code",
   "execution_count": null,
   "metadata": {},
   "outputs": [],
   "source": [
    "import os\n",
    "\n",
    "os.chdir(\"../\")\n",
    "print(os.getcwd())"
   ]
  },
  {
   "cell_type": "code",
   "execution_count": null,
   "metadata": {},
   "outputs": [],
   "source": [
    "import random\n",
    "\n",
    "import pandas as pd\n",
    "from dotenv import load_dotenv\n",
    "from fastembed import TextEmbedding\n",
    "from sklearn.feature_extraction.text import TfidfVectorizer\n",
    "from sklearn.svm import SVC\n",
    "from tqdm import tqdm\n",
    "from xgboost import XGBClassifier\n",
    "\n",
    "from prompt_classifier.metrics import evaluate\n",
    "from prompt_classifier.modeling.dspy_gpt import GPT4oMini\n",
    "from prompt_classifier.modeling.fasttext import FastTextClassifier\n",
    "from prompt_classifier.modeling.nli_modernbert import ModernBERTNLI\n",
    "\n",
    "load_dotenv()\n",
    "random.seed(42)"
   ]
  },
  {
   "cell_type": "code",
   "execution_count": 3,
   "metadata": {},
   "outputs": [],
   "source": [
    "\n",
    "law_prompts = pd.read_csv('data/processed/law_prompts.csv', sep=';')\n",
    "general_prompts = pd.read_csv('data/processed/general_prompts.csv', sep=';')\n",
    "healthcare_prompts = pd.read_csv('data/processed/healthcare_prompts.csv', sep=';')\n",
    "finance_prompts = pd.read_csv('data/processed/finance_prompts.csv', sep=';')\n",
    "\n",
    "law_dataset = pd.concat([law_prompts, general_prompts]).sample(frac=1).reset_index(drop=True)\n",
    "healthcare_dataset = pd.concat([healthcare_prompts, general_prompts]).sample(frac=1).reset_index(drop=True)\n",
    "finance_dataset = pd.concat([finance_prompts, general_prompts]).sample(frac=1).reset_index(drop=True)\n",
    "\n",
    "datasets = {'law': law_dataset, 'healthcare': healthcare_dataset, 'finance': finance_dataset}"
   ]
  },
  {
   "cell_type": "markdown",
   "metadata": {},
   "source": [
    "# GPT baseline optimization"
   ]
  },
  {
   "cell_type": "code",
   "execution_count": null,
   "metadata": {},
   "outputs": [],
   "source": [
    "\n",
    "for domain, dataset in datasets.items():\n",
    "    train_data = dataset.sample(frac=0.0025)\n",
    "    test_data = dataset.drop(train_data.index).head(1000)\n",
    "\n",
    "    gpt_classifier = GPT4oMini(api_key=os.getenv(\"OPENAI_API_KEY\"), proxy_url=os.getenv(\"PROXY_URL\"), model_name=\"gpt-4o-mini\",\n",
    "                            domain=domain, train_data=train_data, test_data=test_data)\n",
    "\n",
    "\n",
    "    gpt_classifier.optimize_model()\n",
    "    predictions, actuals = gpt_classifier.predict()\n",
    "\n",
    "    evaluate(predictions, actuals, domain)\n",
    "\n",
    "    gpt_classifier.save_model(f\"models/gpt-4o-mini-{domain}\")"
   ]
  },
  {
   "cell_type": "markdown",
   "metadata": {},
   "source": [
    "# Comparison loop"
   ]
  },
  {
   "cell_type": "code",
   "execution_count": 4,
   "metadata": {},
   "outputs": [],
   "source": [
    "baai_embedding = TextEmbedding(model_name=\"BAAI/bge-small-en-v1.5\")\n",
    "tf_idf_embedding = TfidfVectorizer()\n",
    "mini_embedding = TextEmbedding(model_name=\"sentence-transformers/all-MiniLM-L6-v2\")\n",
    "\n",
    "embedding_models = {'baai': baai_embedding, 'tf_idf': tf_idf_embedding, 'mini': mini_embedding}"
   ]
  },
  {
   "cell_type": "code",
   "execution_count": null,
   "metadata": {},
   "outputs": [],
   "source": [
    "for domain, dataset in datasets.items():\n",
    "    train_data = dataset.sample(frac=0.8)\n",
    "    test_data = dataset.drop(train_data.index)\n",
    "\n",
    "    actuals = []\n",
    "    predictions = []\n",
    "\n",
    "    # ModernBERT\n",
    "    # bert_classifier = ModernBERTNLI(domain=domain)\n",
    "    # for _, row in tqdm(dataset.iterrows(), total=len(dataset)):\n",
    "    #    prediction = bert_classifier.predict(row['prompt'])\n",
    "    #    actuals.append(row['label'])\n",
    "\n",
    "    #evaluate(predictions, actuals, domain, model_name='ModernBERT', embed_model='modernbert')\n",
    "\n",
    "    actuals = []\n",
    "    predictions = []\n",
    "\n",
    "    # fastText\n",
    "    fasttext_classifier = FastTextClassifier(train_data = train_data, test_data = test_data)\n",
    "    fasttext_classifier.train()\n",
    "\n",
    "    for _, row in tqdm(test_data.iterrows(), total=len(test_data)):\n",
    "        text = str(row['prompt'])\n",
    "        query = text.replace('\\n', '')\n",
    "        prediction = fasttext_classifier.model.predict(query)\n",
    "\n",
    "        if prediction[0][0] == '__label__1':\n",
    "            predictions.append(1)\n",
    "        else:\n",
    "            predictions.append(0)\n",
    "\n",
    "        actuals.append(row['label'])\n",
    "\n",
    "    evaluate(predictions, actuals, domain, model_name='fastText', embed_model='fasttext')\n",
    "\n",
    "    # SVM and XGBoost with different embeddings\n",
    "    for model_name, embedding_model in embedding_models.items():\n",
    "\n",
    "        if model_name == 'tf_idf':\n",
    "            embedding_model.fit(train_data['prompt'])\n",
    "            train_embeds = embedding_model.transform(train_data['prompt'])\n",
    "            test_embeds = embedding_model.transform(test_data['prompt'])\n",
    "        else:\n",
    "            train_embeds = list(embedding_model.embed(train_data['prompt']))\n",
    "            test_embeds = list(embedding_model.embed(test_data['prompt']))\n",
    "\n",
    "        actuals = []\n",
    "        predictions = []\n",
    "\n",
    "        # SVM\n",
    "        svm_classifier = SVC()\n",
    "        svm_classifier.fit(train_embeds, train_data['label'])\n",
    "\n",
    "        for i, row in test_data.iterrows():\n",
    "            prediction = svm_classifier.predict(test_embeds[i])\n",
    "            predictions.append(prediction[0])\n",
    "            actuals.append(row['label'])\n",
    "\n",
    "        evaluate(predictions, actuals, domain, model_name='SVM', embed_model=model_name)\n",
    "\n",
    "        actuals = []\n",
    "        predictions = []\n",
    "\n",
    "        # XGBoost\n",
    "        xgboost_classifier = XGBClassifier()\n",
    "        xgboost_classifier.fit(train_embeds, train_data['label'])\n",
    "\n",
    "        for i, row in test_data.iterrows():\n",
    "            prediction = xgboost_classifier.predict(test_embeds[i])\n",
    "            predictions.append(prediction[0])\n",
    "            actuals.append(row['label'])\n",
    "\n",
    "        evaluate(predictions, actuals, domain, model_name='XGBoost', embed_model=model_name)"
   ]
  },
  {
   "cell_type": "code",
   "execution_count": null,
   "metadata": {},
   "outputs": [],
   "source": []
  }
 ],
 "metadata": {
  "kernelspec": {
   "display_name": "prompt-validation",
   "language": "python",
   "name": "python3"
  },
  "language_info": {
   "codemirror_mode": {
    "name": "ipython",
    "version": 3
   },
   "file_extension": ".py",
   "mimetype": "text/x-python",
   "name": "python",
   "nbconvert_exporter": "python",
   "pygments_lexer": "ipython3",
   "version": "3.11.11"
  }
 },
 "nbformat": 4,
 "nbformat_minor": 2
}
