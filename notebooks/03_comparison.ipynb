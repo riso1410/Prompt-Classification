{
 "cells": [
  {
   "cell_type": "code",
   "execution_count": 1,
   "metadata": {},
   "outputs": [
    {
     "name": "stdout",
     "output_type": "stream",
     "text": [
      "c:\\Users\\riso\\Desktop\\Prompt-Classification\n"
     ]
    }
   ],
   "source": [
    "import os\n",
    "\n",
    "os.chdir(\"../\")\n",
    "print(os.getcwd())"
   ]
  },
  {
   "cell_type": "code",
   "execution_count": 2,
   "metadata": {},
   "outputs": [
    {
     "name": "stderr",
     "output_type": "stream",
     "text": [
      "c:\\Users\\riso\\miniconda3\\envs\\prompt-validation\\Lib\\site-packages\\tqdm\\auto.py:21: TqdmWarning: IProgress not found. Please update jupyter and ipywidgets. See https://ipywidgets.readthedocs.io/en/stable/user_install.html\n",
      "  from .autonotebook import tqdm as notebook_tqdm\n"
     ]
    }
   ],
   "source": [
    "import pickle\n",
    "import random\n",
    "import statistics\n",
    "import time\n",
    "\n",
    "import numpy as np\n",
    "import pandas as pd\n",
    "from dotenv import load_dotenv\n",
    "from fastembed import TextEmbedding\n",
    "from sklearn.feature_extraction.text import TfidfVectorizer\n",
    "from sklearn.svm import SVC\n",
    "from tqdm import tqdm\n",
    "from xgboost import XGBClassifier\n",
    "\n",
    "from prompt_classifier.metrics import evaluate\n",
    "from prompt_classifier.modeling.dspy_gpt import GPT4oMini\n",
    "from prompt_classifier.modeling.fasttext import FastTextClassifier\n",
    "\n",
    "#from prompt_classifier.modeling.nli_modernbert import ModernBERTNLI\n",
    "\n",
    "load_dotenv()\n",
    "random.seed(42)"
   ]
  },
  {
   "cell_type": "code",
   "execution_count": 3,
   "metadata": {},
   "outputs": [],
   "source": [
    "law_prompts = pd.read_csv('data/processed/law_prompts.csv')\n",
    "general_prompts = pd.read_csv('data/processed/general_prompts.csv')\n",
    "healthcare_prompts = pd.read_csv('data/processed/healthcare_prompts.csv')\n",
    "finance_prompts = pd.read_csv('data/processed/finance_prompts.csv')\n",
    "\n",
    "law_dataset = pd.concat([law_prompts, general_prompts]).sample(frac=1).reset_index(drop=True)\n",
    "healthcare_dataset = pd.concat([healthcare_prompts, general_prompts]).sample(frac=1).reset_index(drop=True)\n",
    "finance_dataset = pd.concat([finance_prompts, general_prompts]).sample(frac=1).reset_index(drop=True)\n",
    "\n",
    "datasets = {'law': law_dataset, 'healthcare': healthcare_dataset, 'finance': finance_dataset}"
   ]
  },
  {
   "cell_type": "code",
   "execution_count": 4,
   "metadata": {},
   "outputs": [],
   "source": [
    "law_prompts_interim = pd.read_csv('data/interim/law_prompts.csv')\n",
    "general_prompts_interim = pd.read_csv('data/interim/general_prompts.csv')\n",
    "healthcare_prompts_interim = pd.read_csv('data/interim/healthcare_prompts.csv')\n",
    "finance_prompts_interim = pd.read_csv('data/interim/finance_prompts.csv')\n",
    "\n",
    "law_dataset_interim = pd.concat([law_prompts_interim, general_prompts_interim]).sample(frac=1).reset_index(drop=True)\n",
    "healthcare_dataset_interim = pd.concat([healthcare_prompts_interim, general_prompts_interim]).sample(frac=1).reset_index(drop=True)\n",
    "finance_dataset_interim = pd.concat([finance_prompts_interim, general_prompts_interim]).sample(frac=1).reset_index(drop=True)\n",
    "\n",
    "datasets_interim = {'law': law_dataset_interim, 'healthcare': healthcare_dataset_interim, 'finance': finance_dataset_interim}"
   ]
  },
  {
   "cell_type": "markdown",
   "metadata": {},
   "source": [
    "# GPT and ModernBERT loop using interim data"
   ]
  },
  {
   "cell_type": "code",
   "execution_count": null,
   "metadata": {},
   "outputs": [],
   "source": [
    "\n",
    "for domain, dataset in datasets_interim.items():\n",
    "    train_data = dataset.sample(frac=0.00025)\n",
    "    test_data = dataset.drop(train_data.index).head(100)\n",
    "\n",
    "    gpt_classifier = GPT4oMini(api_key=os.getenv(\"OPENAI_API_KEY\"), proxy_url=os.getenv(\"PROXY_URL\"), model_name=\"gpt-4o-mini\",\n",
    "                            domain=domain, train_data=train_data, test_data=test_data)\n",
    "\n",
    "\n",
    "    gpt_classifier.optimize_model()\n",
    "\n",
    "    predictions, actuals, mean_latency = gpt_classifier.predict()\n",
    "\n",
    "    evaluate(predictions=predictions, true_labels=actuals, domain=domain, model_name=\"gpt4o-mini\", embed_model=\"ada-002\", cost=gpt_classifier.cost, latency=mean_latency)\n",
    "\n",
    "    gpt_classifier.save_model(f\"models/gpt-4o-mini-{domain}.json\")\n",
    "\n",
    "    break\n",
    "\n",
    "    actuals = []\n",
    "    predictions = []\n",
    "    prediction_times = []\n",
    "\n",
    "    # ModernBERT\n",
    "    bert_classifier = ModernBERTNLI(domain=domain)\n",
    "    for _, row in tqdm(dataset.iterrows(), total=len(dataset)):\n",
    "\n",
    "        start_time = time.perf_counter_ns()\n",
    "        prediction = bert_classifier.predict(row['prompt'])\n",
    "        end_time = time.perf_counter_ns()\n",
    "\n",
    "        actuals.append(row['label'])\n",
    "        prediction_times.append(end_time - start_time)\n",
    "\n",
    "        mean_prediction_time = statistics.mean(prediction_times)\n",
    "\n",
    "    evaluate(predictions, actuals, domain, model_name='ModernBERT', embed_model='modernbert', latency=mean_prediction_time)\n"
   ]
  },
  {
   "cell_type": "markdown",
   "metadata": {},
   "source": [
    "# SVM, fastText and XGBoost loop using processed data"
   ]
  },
  {
   "cell_type": "code",
   "execution_count": 5,
   "metadata": {},
   "outputs": [],
   "source": [
    "baai_embedding = TextEmbedding(model_name=\"BAAI/bge-small-en-v1.5\")\n",
    "tf_idf_embedding = TfidfVectorizer()\n",
    "mini_embedding = TextEmbedding(model_name=\"sentence-transformers/all-MiniLM-L6-v2\")\n",
    "\n",
    "embedding_models = {'mini': mini_embedding, 'tf_idf': tf_idf_embedding, 'baai': baai_embedding}"
   ]
  },
  {
   "cell_type": "code",
   "execution_count": null,
   "metadata": {},
   "outputs": [
    {
     "name": "stderr",
     "output_type": "stream",
     "text": [
      "100%|██████████| 8000/8000 [00:00<00:00, 9792.22it/s] \n"
     ]
    },
    {
     "data": {
      "image/png": "[encoded data removed]",
      "text/plain": [
       "<Figure size 640x480 with 2 Axes>"
      ]
     },
     "metadata": {},
     "output_type": "display_data"
    }
   ],
   "source": [
    "for domain, dataset in datasets.items():\n",
    "    train_data = dataset.sample(frac=0.8).reset_index(drop=True)\n",
    "    test_data = dataset.drop(train_data.index).reset_index(drop=True)\n",
    "\n",
    "    actuals = []\n",
    "    predictions = []\n",
    "    prediction_times = []\n",
    "\n",
    "    # fastText\n",
    "    fasttext_classifier = FastTextClassifier(train_data=train_data, test_data=test_data)\n",
    "    fasttext_classifier.train()\n",
    "\n",
    "    for _, row in tqdm(test_data.iterrows(), total=len(test_data)):\n",
    "        text = str(row['prompt'])\n",
    "        query = text.replace('\\n', '')\n",
    "\n",
    "        start_time = time.perf_counter_ns()\n",
    "        prediction = fasttext_classifier.model.predict(query)\n",
    "        end_time = time.perf_counter_ns()\n",
    "\n",
    "        prediction_times.append(end_time - start_time)\n",
    "\n",
    "        if prediction[0][0] == '__label__1':\n",
    "            predictions.append(1)\n",
    "        else:\n",
    "            predictions.append(0)\n",
    "\n",
    "        actuals.append(row['label'])\n",
    "\n",
    "    mean_prediction_time = statistics.mean(prediction_times)\n",
    "    evaluate(predictions, actuals, domain, model_name='fastText', embed_model='fasttext', latency=mean_prediction_time)\n",
    "\n",
    "    fasttext_classifier.model.save_model(f\"models/fastText_{domain}_fasttext.bin\")\n",
    "\n",
    "    # SVM and XGBoost with different embeddings\n",
    "    for model_name, embedding_model in embedding_models.items():\n",
    "\n",
    "        if model_name == 'tf_idf':\n",
    "            embedding_model.fit(train_data['prompt'])\n",
    "            with open(f\"models/tfidf_{domain}.pkl\", 'wb') as f:\n",
    "                pickle.dump(embedding_model, f)\n",
    "            train_embeds = embedding_model.transform(train_data['prompt'])\n",
    "            test_embeds = embedding_model.transform(test_data['prompt'])\n",
    "        else:\n",
    "            train_embeds = list(embedding_model.embed([str(text) for text in train_data['prompt']]))\n",
    "            test_embeds = list(embedding_model.embed([str(text) for text in train_data['prompt']]))\n",
    "            train_embeds = np.array(train_embeds).reshape(len(train_embeds), -1)\n",
    "            test_embeds = np.array(test_embeds).reshape(len(test_embeds), -1)\n",
    "\n",
    "        actuals = []\n",
    "        predictions = []\n",
    "        prediction_times = []\n",
    "\n",
    "        # SVM\n",
    "        svm_classifier = SVC()\n",
    "        svm_classifier.fit(train_embeds, train_data['label'])\n",
    "\n",
    "\n",
    "        for i, row in test_data.iterrows():\n",
    "            start_time = time.perf_counter_ns()\n",
    "            prediction = svm_classifier.predict(test_embeds[i].reshape(1, -1))\n",
    "            end_time = time.perf_counter_ns()\n",
    "\n",
    "            prediction_times.append(end_time - start_time)\n",
    "            predictions.append(prediction[0])\n",
    "            actuals.append(row['label'])\n",
    "\n",
    "        mean_prediction_time = statistics.mean(prediction_times)\n",
    "        evaluate(predictions, actuals, domain, model_name='SVM', embed_model=model_name, latency=mean_prediction_time)\n",
    "\n",
    "        with open(f\"models/SVM_{domain}_{model_name}.pkl\", 'wb') as f:\n",
    "            pickle.dump(svm_classifier, f)\n",
    "\n",
    "        actuals = []\n",
    "        predictions = []\n",
    "        prediction_times = []\n",
    "\n",
    "        # XGBoost\n",
    "        xgboost_classifier = XGBClassifier(n_jobs = -1)\n",
    "        xgboost_classifier.fit(train_embeds, train_data['label'])\n",
    "\n",
    "        for i, row in test_data.iterrows():\n",
    "            start_time = time.perf_counter_ns()\n",
    "            prediction = xgboost_classifier.predict(test_embeds[i].reshape(1, -1))\n",
    "            end_time = time.perf_counter_ns()\n",
    "            prediction_times.append(end_time - start_time)\n",
    "            predictions.append(prediction[0])\n",
    "            actuals.append(row['label'])\n",
    "\n",
    "        mean_prediction_time = statistics.mean(prediction_times)\n",
    "        evaluate(predictions, actuals, domain, model_name='XGBoost', embed_model=model_name, latency=mean_prediction_time)\n",
    "\n",
    "        xgboost_classifier.save_model(f\"models/XGBoost_{domain}_{model_name}.json\")"
   ]
  },
  {
   "cell_type": "code",
   "execution_count": null,
   "metadata": {},
   "outputs": [],
   "source": []
  }
 ],
 "metadata": {
  "kernelspec": {
   "display_name": "prompt-validation",
   "language": "python",
   "name": "python3"
  },
  "language_info": {
   "codemirror_mode": {
    "name": "ipython",
    "version": 3
   },
   "file_extension": ".py",
   "mimetype": "text/x-python",
   "name": "python",
   "nbconvert_exporter": "python",
   "pygments_lexer": "ipython3",
   "version": "3.11.11"
  }
 },
 "nbformat": 4,
 "nbformat_minor": 2
}
