{
 "cells": [
  {
   "cell_type": "code",
   "execution_count": null,
   "metadata": {},
   "outputs": [],
   "source": [
    "from gpt_4o_mini import DataPreparation, ClassificationModule, Trainer, GPT4Model, Evaluator\n",
    "from utilities import Config\n",
    "import os\n",
    "import dotenv"
   ]
  },
  {
   "cell_type": "code",
   "execution_count": null,
   "metadata": {},
   "outputs": [],
   "source": [
    "dotenv.load_dotenv()\n",
    "\n",
    "api_key = os.getenv(\"OPENAI_API_KEY\")\n",
    "proxy_url = os.getenv(\"PROXY_URL\")\n",
    "\n",
    "config = Config(train_size=20, test_size=20)\n",
    "data_prep = DataPreparation(config)\n",
    "data_prep.load_data(\"../data/open_domain_data.csv\", \"../data/specific_domain_data.csv\")\n",
    "\n",
    "gpt_model = GPT4Model(api_key=api_key, proxy_url=proxy_url, )\n",
    "evaluator = Evaluator(gpt_model)\n",
    "\n",
    "trainer = Trainer(ClassificationModule, data_prep.train_data, evaluator)\n",
    "compiled_model = trainer.optimize_model()\n",
    "print(\"Model optimized and compiled.\")\n",
    "\n",
    "predictions = []\n",
    "true_labels = [example.label for example in data_prep.test_data]\n",
    "total_tokens = 0\n",
    "\n",
    "for example in data_prep.test_data:\n",
    "    prompt = example.prompt\n",
    "    prediction = compiled_model(prompt)\n",
    "    predictions.append(prediction.label)\n",
    "\n",
    "    total_tokens += evaluator.count_tokens(prompt)\n",
    "    total_tokens += evaluator.count_tokens(prediction.label)\n",
    "\n",
    "accuracy = evaluator.evaluate_model(predictions, true_labels)\n",
    "price = evaluator.calculate_price(total_tokens)\n",
    "\n",
    "print(f\"Evaluation results: Accuracy {accuracy * 100:.2f}%\")\n",
    "print(f\"Total price: ${price:.4f} USD\")"
   ]
  }
 ],
 "metadata": {
  "kernelspec": {
   "display_name": ".venv",
   "language": "python",
   "name": "python3"
  },
  "language_info": {
   "name": "python",
   "version": "3.12.0"
  }
 },
 "nbformat": 4,
 "nbformat_minor": 2
}
