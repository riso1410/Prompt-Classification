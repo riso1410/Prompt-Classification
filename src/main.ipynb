{
 "cells": [
  {
   "cell_type": "code",
   "execution_count": null,
   "metadata": {},
   "outputs": [
    {
     "name": "stderr",
     "output_type": "stream",
     "text": [
      "c:\\Users\\riso\\Desktop\\Prompt-Classification\\.venv\\Lib\\site-packages\\tqdm\\auto.py:21: TqdmWarning: IProgress not found. Please update jupyter and ipywidgets. See https://ipywidgets.readthedocs.io/en/stable/user_install.html\n",
      "  from .autonotebook import tqdm as notebook_tqdm\n"
     ]
    },
    {
     "data": {
      "text/plain": [
       "True"
      ]
     },
     "execution_count": 1,
     "metadata": {},
     "output_type": "execute_result"
    }
   ],
   "source": [
    "from llm_classifier import LMTrainer, LMClassifier\n",
    "from svm_tfidf import SVMClassifier\n",
    "import os\n",
    "import dotenv\n",
    "import requests\n",
    "import wandb\n",
    "import random\n",
    "\n",
    "dotenv.load_dotenv()"
   ]
  },
  {
   "cell_type": "markdown",
   "metadata": {},
   "source": [
    "# Models"
   ]
  },
  {
   "cell_type": "code",
   "execution_count": null,
   "metadata": {},
   "outputs": [],
   "source": [
    "def get_models() -> list:\n",
    "    url = f\"{os.getenv(\"PROXY_URL\")}/models\"\n",
    "    headers = {\"Content-Type\": \"application/json\", \"Authorization\": f\"Bearer {os.getenv(\"OPENAI_API_KEY\")}\"}\n",
    "\n",
    "    try:\n",
    "        response = requests.get(url, headers=headers)\n",
    "        response.raise_for_status()\n",
    "        models = response.json()\n",
    "        models = [model[\"id\"] for model in models[\"data\"]]\n",
    "        return models\n",
    "    except requests.exceptions.RequestException as e:\n",
    "        print(f\"An error occurred: {e}\")\n",
    "        return None\n",
    "\n",
    "# Example usage\n",
    "available_models = get_models()\n",
    "if available_models:\n",
    "    print(\"Available models:\", available_models)\n",
    "else:\n",
    "    print(\"Failed to retrieve models\")"
   ]
  },
  {
   "cell_type": "markdown",
   "metadata": {},
   "source": [
    "# GPT-4o-mini"
   ]
  },
  {
   "cell_type": "code",
   "execution_count": null,
   "metadata": {},
   "outputs": [],
   "source": [
    "api_key = os.getenv(\"OPENAI_API_KEY\")\n",
    "proxy_url = os.getenv(\"PROXY_URL\")\n",
    "\n",
    "gpt_model = LMClassifier(api_key=api_key, proxy_url=proxy_url, domain='law', model_name='gpt-4o-mini', train_size=10, test_size=20)\n",
    "gpt_model.load_data(open_path=\"../data/open_domain_data.csv\", specific_path=\"../data/specific_domain_data.csv\")\n",
    "\n",
    "trainer = LMTrainer(gpt_model.train_data)"
   ]
  },
  {
   "cell_type": "code",
   "execution_count": null,
   "metadata": {},
   "outputs": [],
   "source": [
    "compiled_model = trainer.optimize_model()\n",
    "accuracy = trainer.test_model(gpt_model.test_data)\n",
    "\n",
    "print(f\"Evaluation results: Accuracy {accuracy * 100:.2f}%\")\n",
    "\n",
    "trainer.save_model(f\"../models/{gpt_model.model_name}.json\")"
   ]
  },
  {
   "cell_type": "code",
   "execution_count": null,
   "metadata": {},
   "outputs": [],
   "source": [
    "trainer.load_model(f\"../models/{gpt_model.model_name}.json\")\n",
    "\n",
    "results = trainer.predict(\"How does law balance the protection of individual rights with the needs of society?\")\n",
    "\n",
    "print(f\"Prediction results: {results}\")"
   ]
  },
  {
   "cell_type": "markdown",
   "metadata": {},
   "source": [
    "# SVM-TFIDF"
   ]
  },
  {
   "cell_type": "code",
   "execution_count": null,
   "metadata": {},
   "outputs": [],
   "source": [
    "def sweep_svm_classifier(config=None):\n",
    "    wandb.init(config=config)\n",
    "    config = wandb.config\n",
    "\n",
    "    svm_classifier = SVMClassifier(config)\n",
    "    \n",
    "    X_train, X_test, y_train, y_test = svm_classifier.prepare_data(open_path=\"../data/open_domain_data.csv\", \n",
    "                                                                   specific_path=\"../data/specific_domain_data.csv\")\n",
    "    \n",
    "    svm_classifier.train(X_train, y_train)\n",
    "    cv_results = svm_classifier.cross_validate_model(X_train, y_train, cv=3)\n",
    "\n",
    "    wandb.log({\"cv_results\": cv_results.get(\"average_accuracy\")})\n",
    "    \n",
    "    return cv_results.get(\"average_accuracy\")\n",
    "\n",
    "sweep_configuration = {\n",
    "    'method': 'random', \n",
    "    'name': 'svm-sweep',\n",
    "    'metric': {\n",
    "        'name': 'cv_results',\n",
    "        'goal': 'maximize',  \n",
    "    },\n",
    "    'parameters': {\n",
    "        'C': {\n",
    "            'min': float(0.01),\n",
    "            'max': float(10),\n",
    "        },\n",
    "        'train_size': {\n",
    "            'min': 1000,\n",
    "            'max': 10000,\n",
    "        },\n",
    "        'test_size': {\n",
    "            'min': 1000,\n",
    "            'max': 10000,\n",
    "        },\n",
    "        'seed': {\n",
    "            'values': [random.randint(0, 100) for _ in range(10)],\n",
    "        }\n",
    "    }\n",
    "}\n",
    "\n",
    "sweep_id = wandb.sweep(sweep_configuration, project='bc-prompt-classification')\n",
    "\n",
    "wandb.agent(sweep_id, function=sweep_svm_classifier, count=10)"
   ]
  },
  {
   "cell_type": "code",
   "execution_count": null,
   "metadata": {},
   "outputs": [
    {
     "name": "stderr",
     "output_type": "stream",
     "text": [
      "wandb: Sorting runs by -summary_metrics.cv_results\n"
     ]
    },
    {
     "name": "stdout",
     "output_type": "stream",
     "text": [
      "Classification Report:\n",
      "               precision    recall  f1-score   support\n",
      "\n",
      "           0       0.98      0.98      0.98      1135\n",
      "           1       0.97      0.97      0.97       815\n",
      "\n",
      "    accuracy                           0.97      1950\n",
      "   macro avg       0.97      0.97      0.97      1950\n",
      "weighted avg       0.97      0.97      0.97      1950\n",
      "\n"
     ]
    },
    {
     "data": {
      "text/plain": [
       "{'accuracy': 0.9738461538461538,\n",
       " 'precision': np.float64(0.9692874692874693),\n",
       " 'recall': np.float64(0.9680981595092024)}"
      ]
     },
     "execution_count": 3,
     "metadata": {},
     "output_type": "execute_result"
    }
   ],
   "source": [
    "wandb.login() \n",
    "api = wandb.Api()\n",
    "\n",
    "sweeps = api.sweep(f'/riso-sleher-fiit-stu/bc-prompt-classification/sweeps/{sweep_id}')\n",
    "\n",
    "best_config = sweeps.best_run().config\n",
    "\n",
    "svm_classifier = SVMClassifier(best_config)\n",
    "\n",
    "X_train, X_test, y_train, y_test = svm_classifier.prepare_data(open_path=\"../data/open_domain_data.csv\", \n",
    "                                                               specific_path=\"../data/specific_domain_data.csv\")\n",
    "\n",
    "svm_classifier.train(X_train, y_train)\n",
    "svm_classifier.evaluate(X_test, y_test)"
   ]
  },
  {
   "cell_type": "code",
   "execution_count": null,
   "metadata": {},
   "outputs": [],
   "source": [
    "# Save the model\n",
    "svm_classifier.save_model(f'../models/{svm_classifier.model_name}.joblib')"
   ]
  },
  {
   "cell_type": "code",
   "execution_count": null,
   "metadata": {},
   "outputs": [],
   "source": [
    "svm_classifier.load_model(f'../models/{svm_classifier.model_name}.joblib')\n",
    "\n",
    "result = svm_classifier.predict(\"How does culture influence perceptions of justice and fairness within a legal system?\")\n",
    "\n",
    "print(result)"
   ]
  },
  {
   "cell_type": "code",
   "execution_count": null,
   "metadata": {},
   "outputs": [],
   "source": []
  }
 ],
 "metadata": {
  "kernelspec": {
   "display_name": ".venv",
   "language": "python",
   "name": "python3"
  },
  "language_info": {
   "codemirror_mode": {
    "name": "ipython",
    "version": 3
   },
   "file_extension": ".py",
   "mimetype": "text/x-python",
   "name": "python",
   "nbconvert_exporter": "python",
   "pygments_lexer": "ipython3",
   "version": "3.12.0"
  }
 },
 "nbformat": 4,
 "nbformat_minor": 2
}
