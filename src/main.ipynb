{
 "cells": [
  {
   "cell_type": "code",
   "execution_count": null,
   "metadata": {},
   "outputs": [],
   "source": [
    "from gpt_4o_mini import *\n",
    "from svm_tfidf import DataPreparationSVM, SVMClassifier\n",
    "from utilities import Config\n",
    "import os\n",
    "import dotenv"
   ]
  },
  {
   "cell_type": "markdown",
   "metadata": {},
   "source": [
    "# GPT-4o-mini"
   ]
  },
  {
   "cell_type": "code",
   "execution_count": null,
   "metadata": {},
   "outputs": [],
   "source": [
    "dotenv.load_dotenv()\n",
    "\n",
    "api_key = os.getenv(\"OPENAI_API_KEY\")\n",
    "proxy_url = os.getenv(\"PROXY_URL\")\n",
    "\n",
    "config = Config(train_size=20, test_size=20)\n",
    "data_prep = DataPreparationLLM(config)\n",
    "data_prep.load_data(\"../data/open_domain_data.csv\", \"../data/specific_domain_data.csv\")\n",
    "\n",
    "gpt_model = GPT4Model(api_key=api_key, proxy_url=proxy_url, )\n",
    "evaluator = Evaluator(gpt_model)\n",
    "\n",
    "trainer = Trainer(ClassificationModule, data_prep.train_data, evaluator)\n",
    "compiled_model = trainer.optimize_model()\n",
    "print(\"Model optimized and compiled.\")\n",
    "trainer.save_model(f\"../models/{gpt_model.model_name}.json\")\n",
    "\n",
    "predictions = list()\n",
    "true_labels = [example.label for example in data_prep.test_data]\n",
    "total_tokens = int()\n",
    "\n",
    "for example in data_prep.test_data:\n",
    "    prompt = example.prompt\n",
    "    prediction = compiled_model(prompt)\n",
    "    predictions.append(prediction.label)\n",
    "\n",
    "    total_tokens += evaluator.count_tokens(prompt)\n",
    "    total_tokens += evaluator.count_tokens(prediction.label)\n",
    "\n",
    "accuracy = evaluator.evaluate_model(predictions, true_labels)\n",
    "price = evaluator.calculate_price(total_tokens)\n",
    "\n",
    "print(f\"Evaluation results: Accuracy {accuracy * 100:.2f}%\")\n",
    "print(f\"Total price: ${price:.4f} USD\")"
   ]
  },
  {
   "cell_type": "markdown",
   "metadata": {},
   "source": [
    "# SVM-TFIDF"
   ]
  },
  {
   "cell_type": "code",
   "execution_count": null,
   "metadata": {},
   "outputs": [],
   "source": [
    "\n",
    "config = Config(train_size=15_000, test_size=5_000)\n",
    "\n",
    "data_prep = DataPreparationSVM(config)\n",
    "data = data_prep.load_data(\"../data/open_domain_data.csv\", \"../data/specific_domain_data.csv\")\n",
    "\n",
    "X_train, X_test, y_train, y_test = data_prep.prepare_data(data)\n"
   ]
  },
  {
   "cell_type": "code",
   "execution_count": null,
   "metadata": {},
   "outputs": [],
   "source": [
    "svm_classifier = SVMClassifier(config)\n",
    "svm_classifier.train(X_train, y_train)\n",
    "\n",
    "# Evaluate the classifier and print results\n",
    "accuracy = svm_classifier.evaluate(X_test, y_test)\n",
    "print(f\"Accuracy: {accuracy * 100:.2f}%\")\n",
    "\n",
    "# Save the model\n",
    "svm_classifier.save_model(f\"..models/{svm_classifier.model_name}.joblib\")"
   ]
  },
  {
   "cell_type": "code",
   "execution_count": null,
   "metadata": {},
   "outputs": [],
   "source": []
  }
 ],
 "metadata": {
  "kernelspec": {
   "display_name": ".venv",
   "language": "python",
   "name": "python3"
  },
  "language_info": {
   "codemirror_mode": {
    "name": "ipython",
    "version": 3
   },
   "file_extension": ".py",
   "mimetype": "text/x-python",
   "name": "python",
   "nbconvert_exporter": "python",
   "pygments_lexer": "ipython3",
   "version": "3.11.9"
  }
 },
 "nbformat": 4,
 "nbformat_minor": 2
}
