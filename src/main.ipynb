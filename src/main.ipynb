{
 "cells": [
  {
   "cell_type": "markdown",
   "metadata": {},
   "source": [
    "# TODO\n",
    "- upratat ten hnusny kod + EDA v nb\n",
    "- wandb logging sweep\n",
    "- ModernBERT https://huggingface.co/tasksource/ModernBERT-base-nli\n",
    "<hr>\n",
    "GENERAL: https://huggingface.co/datasets/alespalla/chatbot_instruction_prompts \n",
    "\n",
    "LAW: https://huggingface.co/datasets/dim/law_stackexchange_prompts \n",
    "\n",
    "FINANCE: https://huggingface.co/datasets/Marina-C/question-answer-Subject-Finance-Instruct \n",
    "\n",
    "HEALTHCARE: https://huggingface.co/datasets/iecjsu/lavita-ChatDoctor-HealthCareMagic-100k "
   ]
  },
  {
   "cell_type": "code",
   "execution_count": null,
   "metadata": {},
   "outputs": [
    {
     "name": "stderr",
     "output_type": "stream",
     "text": [
      "[nltk_data] Downloading package stopwords to ../.venv\\nltk_data...\n",
      "[nltk_data]   Package stopwords is already up-to-date!\n",
      "[nltk_data] Downloading package punkt_tab to ../.venv\\nltk_data...\n",
      "[nltk_data]   Package punkt_tab is already up-to-date!\n",
      "[nltk_data] Downloading package wordnet to ../.venv\\nltk_data...\n",
      "[nltk_data]   Package wordnet is already up-to-date!\n"
     ]
    },
    {
     "data": {
      "text/plain": [
       "True"
      ]
     },
     "execution_count": 8,
     "metadata": {},
     "output_type": "execute_result"
    }
   ],
   "source": [
    "from llm_classifier import LMTrainer, LMClassifier\n",
    "from svm_tfidf import SVMClassifier\n",
    "from fasttext_model import *\n",
    "from utilities import *\n",
    "import os\n",
    "import dotenv\n",
    "import fasttext\n",
    "from fastembed import TextEmbedding\n",
    "from tqdm import tqdm\n",
    "import re\n",
    "import nltk\n",
    "from datasets import load_dataset\n",
    "\n",
    "nltk.download('stopwords', download_dir=os.path.join(os.path.dirname('../.venv/'), 'nltk_data'))\n",
    "nltk.download('punkt_tab', download_dir=os.path.join(os.path.dirname('../.venv/'), 'nltk_data'))\n",
    "nltk.download('wordnet', download_dir=os.path.join(os.path.dirname('../.venv/'), 'nltk_data'))\n",
    "\n",
    "dotenv.load_dotenv()"
   ]
  },
  {
   "cell_type": "code",
   "execution_count": null,
   "metadata": {},
   "outputs": [],
   "source": [
    "finQA = load_dataset(\"LLukas22/fiqa\")\n",
    "medQA = load_dataset(\"medalpaca/medical_meadow_medical_flashcards\")\n",
    "\n",
    "open_path = \"../data/open_domain_data.csv\"\n",
    "specific_path = \"../data/specific_domain_data.csv\"\n",
    "\n",
    "train_size = 10_000\n",
    "test_size = 10_000\n",
    "val_size = 2000"
   ]
  },
  {
   "cell_type": "code",
   "execution_count": 3,
   "metadata": {},
   "outputs": [],
   "source": [
    "open_data = pd.read_csv(open_path)\n",
    "specific_data = pd.read_csv(specific_path)\n",
    "\n",
    "open_data = open_data\n",
    "specific_data = specific_data\n",
    "\n",
    "merged_data = pd.concat([open_data, specific_data])\n",
    "\n",
    "shuffled_data = merged_data.sample(frac=1).reset_index(drop=True)\n",
    "\n",
    "shuffled_data['question'] = (\n",
    "    shuffled_data['question']\n",
    "    .apply(lambda x: re.sub(r'[^\\w\\s]', '', x.encode('utf-8').decode('utf-8').lower()))\n",
    ")\n",
    "\n",
    "train_data = shuffled_data[:train_size]\n",
    "val_data = shuffled_data[train_size:train_size + val_size]\n",
    "test_data = shuffled_data[train_size:train_size + test_size]"
   ]
  },
  {
   "cell_type": "markdown",
   "metadata": {},
   "source": [
    "# Models"
   ]
  },
  {
   "cell_type": "code",
   "execution_count": 4,
   "metadata": {},
   "outputs": [
    {
     "name": "stdout",
     "output_type": "stream",
     "text": [
      "Available models: ['gpt-4o', 'llama3.1:70b', 'llama3.1:8b', 'o1-mini', 'o1-preview', 'gpt-4', 'gpt-4o-mini', 'gpt-4-turbo']\n"
     ]
    }
   ],
   "source": [
    "# Example usage\n",
    "available_models = get_models()\n",
    "if available_models:\n",
    "    print(\"Available models:\", available_models)\n",
    "else:\n",
    "    print(\"Failed to retrieve models\")"
   ]
  },
  {
   "cell_type": "markdown",
   "metadata": {},
   "source": [
    "# Embedding Models"
   ]
  },
  {
   "cell_type": "code",
   "execution_count": 5,
   "metadata": {},
   "outputs": [
    {
     "name": "stderr",
     "output_type": "stream",
     "text": [
      "Fetching 5 files: 100%|██████████| 5/5 [00:00<00:00, 320.20it/s]\n",
      "Fetching 5 files: 100%|██████████| 5/5 [00:00<?, ?it/s]\n",
      "Fetching 5 files: 100%|██████████| 5/5 [00:00<?, ?it/s]\n"
     ]
    }
   ],
   "source": [
    "baai_embedding = TextEmbedding(model_name=\"BAAI/bge-small-en-v1.5\")\n",
    "jina_embedding = TextEmbedding(model_name=\"jinaai/jina-embeddings-v2-small-en\")\n",
    "miniLM_embedding = TextEmbedding(model_name=\"sentence-transformers/all-MiniLM-L6-v2\")"
   ]
  },
  {
   "cell_type": "markdown",
   "metadata": {},
   "source": [
    "# GPT-4o-mini"
   ]
  },
  {
   "cell_type": "code",
   "execution_count": 6,
   "metadata": {},
   "outputs": [
    {
     "name": "stdout",
     "output_type": "stream",
     "text": [
      "Train data: 500\n",
      "Test data: 1000\n"
     ]
    }
   ],
   "source": [
    "api_key = os.getenv(\"OPENAI_API_KEY\")\n",
    "proxy_url = os.getenv(\"PROXY_URL\")\n",
    "\n",
    "gpt_model = LMClassifier(api_key=api_key, proxy_url=proxy_url, domain='law', model_name='gpt-4o-mini', train_size=500, test_size=1000)\n",
    "gpt_model.load_data(train_data=train_data, test_data=test_data)\n",
    "\n",
    "trainer = LMTrainer(gpt_model.train_data)"
   ]
  },
  {
   "cell_type": "code",
   "execution_count": 7,
   "metadata": {},
   "outputs": [
    {
     "name": "stdout",
     "output_type": "stream",
     "text": [
      "Going to sample between 1 and 8 traces per predictor.\n",
      "Will attempt to bootstrap 4 candidate sets.\n"
     ]
    },
    {
     "name": "stderr",
     "output_type": "stream",
     "text": [
      "Average Metric: 472 / 500  (94.4): 100%|██████████| 500/500 [01:12<00:00,  6.92it/s]\n"
     ]
    },
    {
     "name": "stdout",
     "output_type": "stream",
     "text": [
      "New best score: 94.4 for seed -3\n",
      "Scores so far: [94.4]\n",
      "Best score so far: 94.4\n"
     ]
    },
    {
     "name": "stderr",
     "output_type": "stream",
     "text": [
      "Average Metric: 491 / 500  (98.2): 100%|██████████| 500/500 [01:14<00:00,  6.74it/s]\n"
     ]
    },
    {
     "name": "stdout",
     "output_type": "stream",
     "text": [
      "New best score: 98.2 for seed -2\n",
      "Scores so far: [94.4, 98.2]\n",
      "Best score so far: 98.2\n"
     ]
    },
    {
     "name": "stderr",
     "output_type": "stream",
     "text": [
      "  2%|▏         | 8/500 [00:00<00:00, 1328.78it/s]\n"
     ]
    },
    {
     "name": "stdout",
     "output_type": "stream",
     "text": [
      "Bootstrapped 8 full traces after 9 examples in round 0.\n"
     ]
    },
    {
     "name": "stderr",
     "output_type": "stream",
     "text": [
      "Average Metric: 487 / 500  (97.4): 100%|██████████| 500/500 [01:19<00:00,  6.30it/s]\n"
     ]
    },
    {
     "name": "stdout",
     "output_type": "stream",
     "text": [
      "Scores so far: [94.4, 98.2, 97.4]\n",
      "Best score so far: 98.2\n"
     ]
    },
    {
     "name": "stderr",
     "output_type": "stream",
     "text": [
      "  1%|▏         | 7/500 [00:12<15:13,  1.85s/it]  \n"
     ]
    },
    {
     "name": "stdout",
     "output_type": "stream",
     "text": [
      "Bootstrapped 7 full traces after 8 examples in round 0.\n"
     ]
    },
    {
     "name": "stderr",
     "output_type": "stream",
     "text": [
      "Average Metric: 485 / 500  (97.0): 100%|██████████| 500/500 [01:20<00:00,  6.21it/s]\n"
     ]
    },
    {
     "name": "stdout",
     "output_type": "stream",
     "text": [
      "Scores so far: [94.4, 98.2, 97.4, 97.0]\n",
      "Best score so far: 98.2\n"
     ]
    },
    {
     "name": "stderr",
     "output_type": "stream",
     "text": [
      "  1%|          | 3/500 [00:02<06:48,  1.22it/s]\n"
     ]
    },
    {
     "name": "stdout",
     "output_type": "stream",
     "text": [
      "Bootstrapped 3 full traces after 4 examples in round 0.\n"
     ]
    },
    {
     "name": "stderr",
     "output_type": "stream",
     "text": [
      "Average Metric: 490 / 500  (98.0): 100%|██████████| 500/500 [01:32<00:00,  5.39it/s]\n"
     ]
    },
    {
     "name": "stdout",
     "output_type": "stream",
     "text": [
      "Scores so far: [94.4, 98.2, 97.4, 97.0, 98.0]\n",
      "Best score so far: 98.2\n"
     ]
    },
    {
     "name": "stderr",
     "output_type": "stream",
     "text": [
      "  0%|          | 1/500 [00:00<07:22,  1.13it/s]\n"
     ]
    },
    {
     "name": "stdout",
     "output_type": "stream",
     "text": [
      "Bootstrapped 1 full traces after 2 examples in round 0.\n"
     ]
    },
    {
     "name": "stderr",
     "output_type": "stream",
     "text": [
      "Average Metric: 488 / 500  (97.6): 100%|██████████| 500/500 [01:10<00:00,  7.14it/s]\n"
     ]
    },
    {
     "name": "stdout",
     "output_type": "stream",
     "text": [
      "Scores so far: [94.4, 98.2, 97.4, 97.0, 98.0, 97.6]\n",
      "Best score so far: 98.2\n"
     ]
    },
    {
     "name": "stderr",
     "output_type": "stream",
     "text": [
      "  1%|          | 4/500 [00:02<06:04,  1.36it/s]\n"
     ]
    },
    {
     "name": "stdout",
     "output_type": "stream",
     "text": [
      "Bootstrapped 4 full traces after 5 examples in round 0.\n"
     ]
    },
    {
     "name": "stderr",
     "output_type": "stream",
     "text": [
      "Average Metric: 487 / 500  (97.4): 100%|██████████| 500/500 [01:09<00:00,  7.24it/s]\n"
     ]
    },
    {
     "name": "stdout",
     "output_type": "stream",
     "text": [
      "Scores so far: [94.4, 98.2, 97.4, 97.0, 98.0, 97.6, 97.4]\n",
      "Best score so far: 98.2\n",
      "7 candidate programs found.\n"
     ]
    },
    {
     "name": "stderr",
     "output_type": "stream",
     "text": [
      "100%|██████████| 1000/1000 [14:17<00:00,  1.17it/s]\n"
     ]
    },
    {
     "data": {
      "image/png": "[encoded data removed]",
      "text/plain": [
       "<Figure size 640x480 with 2 Axes>"
      ]
     },
     "metadata": {},
     "output_type": "display_data"
    },
    {
     "name": "stdout",
     "output_type": "stream",
     "text": [
      "Total cost is: 0.00245835$\n",
      "F1 score: 0.98\n",
      "Accuracy: 0.98\n",
      "Recall: 0.96\n",
      "Precision: 0.99\n",
      "[('prog', Predict(ClassificationSignature(domain, prompt -> label\n",
      "    instructions='Classify if a text is specific for a domain or not.'\n",
      "    domain = Field(annotation=str required=True json_schema_extra={'desc': 'The target domain to classify the prompt against.', '__dspy_field_type': 'input', 'prefix': 'Domain:'})\n",
      "    prompt = Field(annotation=str required=True json_schema_extra={'desc': 'The prompt to classify.', '__dspy_field_type': 'input', 'prefix': 'Prompt:'})\n",
      "    label = Field(annotation=str required=True json_schema_extra={'desc': '1, if the input text belong to domain, 0 otherwise.', '__dspy_field_type': 'output', 'prefix': 'Label:'})\n",
      ")))]\n",
      "Model saved to ../models/gpt-4o-mini.json\n"
     ]
    }
   ],
   "source": [
    "predictions = []\n",
    "true_labels = []\n",
    "total_cost = 0\n",
    "\n",
    "compiled_model = trainer.optimize_model()\n",
    "\n",
    "for example in tqdm(gpt_model.test_data):\n",
    "    prediction = trainer.optimized_model(prompt=example.prompt, domain=example.domain).label\n",
    "    predictions.append(prediction)\n",
    "    true_labels.append(example.label)\n",
    "    total_cost += calculate_prompt_cost(example.prompt+example.domain, completion=prediction, model_name=gpt_model.model_name)\n",
    "\n",
    "f1, accuracy, recall, precision = trainer.evaluate(predictions, true_labels)\n",
    "\n",
    "print(f\"Total cost is: {total_cost:.8f}$\")\n",
    "print(f\"F1 score: {f1:.2f}\")\n",
    "print(f\"Accuracy: {accuracy:.2f}\")\n",
    "print(f\"Recall: {recall:.2f}\")\n",
    "print(f\"Precision: {precision:.2f}\")\n",
    "\n",
    "trainer.save_model(f\"../models/{gpt_model.model_name}.json\")"
   ]
  },
  {
   "cell_type": "markdown",
   "metadata": {},
   "source": [
    "# SVM-TFIDF"
   ]
  },
  {
   "cell_type": "code",
   "execution_count": null,
   "metadata": {},
   "outputs": [
    {
     "name": "stderr",
     "output_type": "stream",
     "text": [
      "c:\\Users\\riso\\Desktop\\Prompt-Classification\\src\\utilities.py:58: SettingWithCopyWarning: \n",
      "A value is trying to be set on a copy of a slice from a DataFrame.\n",
      "Try using .loc[row_indexer,col_indexer] = value instead\n",
      "\n",
      "See the caveats in the documentation: https://pandas.pydata.org/pandas-docs/stable/user_guide/indexing.html#returning-a-view-versus-a-copy\n",
      "  data['question'] = data['question'].apply(clean_text)\n"
     ]
    }
   ],
   "source": [
    "train_data = preprocess_data(train_data)\n",
    "\n",
    "config = {\n",
    "    'C': 0.05,\n",
    "    'embedding_model': baai_embedding,\n",
    "}\n",
    "\n",
    "svm_classifier = SVMClassifier(config=config)\n",
    "\n",
    "X_train, X_test, y_train, y_test = train_data['question'], test_data['question'], train_data['label'], test_data['label']\n",
    "\n",
    "X_train = list(config.get('embedding_model').embed(X_train))\n",
    "X_test = list(config.get('embedding_model').embed(X_test))"
   ]
  },
  {
   "cell_type": "code",
   "execution_count": 9,
   "metadata": {},
   "outputs": [
    {
     "name": "stdout",
     "output_type": "stream",
     "text": [
      "Training complete\n"
     ]
    },
    {
     "data": {
      "image/png": "[encoded data removed]",
      "text/plain": [
       "<Figure size 640x480 with 2 Axes>"
      ]
     },
     "metadata": {},
     "output_type": "display_data"
    },
    {
     "name": "stdout",
     "output_type": "stream",
     "text": [
      "Overfitting check:\n",
      "F1 score: 0.98\n",
      "Accuracy: 0.98\n",
      "Recall: 0.97\n",
      "Precision: 0.99\n"
     ]
    },
    {
     "data": {
      "image/png": "[encoded data removed]",
      "text/plain": [
       "<Figure size 640x480 with 2 Axes>"
      ]
     },
     "metadata": {},
     "output_type": "display_data"
    },
    {
     "name": "stdout",
     "output_type": "stream",
     "text": [
      "Final results:\n",
      "F1 score: 0.98\n",
      "Accuracy: 0.98\n",
      "Recall: 0.98\n",
      "Precision: 0.98\n"
     ]
    }
   ],
   "source": [
    "svm_classifier.train(X_train, y_train)\n",
    "print(\"Training complete\")\n",
    "\n",
    "f1, accuracy, recall, precision = svm_classifier.evaluate(X_train, y_train)\n",
    "print(\"Overfitting check:\")\n",
    "print(f\"F1 score: {f1:.2f}\")\n",
    "print(f\"Accuracy: {accuracy:.2f}\")\n",
    "print(f\"Recall: {recall:.2f}\")\n",
    "print(f\"Precision: {precision:.2f}\")\n",
    "\n",
    "f1, accuracy, recall, precision = svm_classifier.evaluate(X_test, y_test)\n",
    "print(\"Final results:\")\n",
    "print(f\"F1 score: {f1:.2f}\")\n",
    "print(f\"Accuracy: {accuracy:.2f}\")\n",
    "print(f\"Recall: {recall:.2f}\")\n",
    "print(f\"Precision: {precision:.2f}\")"
   ]
  },
  {
   "cell_type": "code",
   "execution_count": 10,
   "metadata": {},
   "outputs": [
    {
     "data": {
      "text/plain": [
       "array([1], dtype=int64)"
      ]
     },
     "execution_count": 10,
     "metadata": {},
     "output_type": "execute_result"
    }
   ],
   "source": [
    "svm_classifier.predict(\"If lepernauchs were recognized as healthcare providers, would their actions be covered under malpractice insurance laws?\")"
   ]
  },
  {
   "cell_type": "code",
   "execution_count": 11,
   "metadata": {},
   "outputs": [
    {
     "name": "stdout",
     "output_type": "stream",
     "text": [
      "Model saved to ../models/SVM_TFIDF.joblib\n"
     ]
    }
   ],
   "source": [
    "# Save the model\n",
    "svm_classifier.save_model(model_path=f'../models/{svm_classifier.model_name}.joblib')"
   ]
  },
  {
   "cell_type": "markdown",
   "metadata": {},
   "source": [
    "# FastText"
   ]
  },
  {
   "cell_type": "code",
   "execution_count": 12,
   "metadata": {},
   "outputs": [],
   "source": [
    "def print_results(N, p, r):\n",
    "    print(\"N\\t\" + str(N))\n",
    "    print(\"P@{}\\t{:.3f}\".format(1, p))\n",
    "    print(\"R@{}\\t{:.3f}\".format(1, r))"
   ]
  },
  {
   "cell_type": "code",
   "execution_count": 13,
   "metadata": {},
   "outputs": [],
   "source": [
    "fasttext_model = FastText(train_data=train_data, test_data=test_data, val_data=val_data)\n",
    "\n",
    "train_file = \"../data/fasttext_train.txt\"\n",
    "test_file = \"../data/fasttext_test.txt\"\n",
    "val_file = \"../data/fasttext_val.txt\"\n",
    "\n",
    "fasttext_model.preprocess_data(train_path=train_file, test_path=test_file, val_path=val_file)"
   ]
  },
  {
   "cell_type": "code",
   "execution_count": 14,
   "metadata": {},
   "outputs": [
    {
     "name": "stdout",
     "output_type": "stream",
     "text": [
      "Check overfitting:\n",
      "N\t10000\n",
      "P@1\t0.976\n",
      "R@1\t0.976\n",
      "\n",
      "Final results:\n",
      "N\t10000\n",
      "P@1\t0.946\n",
      "R@1\t0.946\n"
     ]
    }
   ],
   "source": [
    "ft_model = fasttext.train_supervised(input=train_file, lr=0.8e-3, epoch=100, autotuneValidationFile=val_file)\n",
    "\n",
    "print(\"Check overfitting:\")\n",
    "print_results(*ft_model.test(train_file))\n",
    "print()\n",
    "print(\"Final results:\")\n",
    "print_results(*ft_model.test(test_file))"
   ]
  },
  {
   "cell_type": "code",
   "execution_count": 15,
   "metadata": {},
   "outputs": [
    {
     "data": {
      "text/plain": [
       "(('__label__1', '__label__0'), array([0.87017655, 0.12984346]))"
      ]
     },
     "execution_count": 15,
     "metadata": {},
     "output_type": "execute_result"
    }
   ],
   "source": [
    "ft_model.predict(\"If lepernauchs were recognized as healthcare providers, would their actions be covered under malpractice insurance laws?\", k=2)"
   ]
  },
  {
   "cell_type": "code",
   "execution_count": 16,
   "metadata": {},
   "outputs": [],
   "source": [
    "ft_model.save_model(f\"../models/{fasttext_model.model_name}.bin\")"
   ]
  },
  {
   "cell_type": "code",
   "execution_count": 1,
   "metadata": {},
   "outputs": [
    {
     "name": "stderr",
     "output_type": "stream",
     "text": [
      "c:\\Users\\riso\\Desktop\\Prompt-Classification\\.venv\\Lib\\site-packages\\tqdm\\auto.py:21: TqdmWarning: IProgress not found. Please update jupyter and ipywidgets. See https://ipywidgets.readthedocs.io/en/stable/user_install.html\n",
      "  from .autonotebook import tqdm as notebook_tqdm\n",
      "Generating train split: 100%|██████████| 14511/14511 [00:00<00:00, 222738.60 examples/s]\n",
      "Generating test split: 100%|██████████| 2561/2561 [00:00<00:00, 232855.25 examples/s]\n"
     ]
    }
   ],
   "source": [
    "from datasets import load_dataset\n",
    "\n",
    "ds = load_dataset(\"LLukas22/fiqa\")"
   ]
  },
  {
   "cell_type": "code",
   "execution_count": 5,
   "metadata": {},
   "outputs": [],
   "source": [
    "train_data = ds['train']['question']"
   ]
  },
  {
   "cell_type": "code",
   "execution_count": null,
   "metadata": {},
   "outputs": [
    {
     "data": {
      "text/plain": [
       "'What do brokers do with bad stock?'"
      ]
     },
     "execution_count": 7,
     "metadata": {},
     "output_type": "execute_result"
    }
   ],
   "source": []
  },
  {
   "cell_type": "code",
   "execution_count": null,
   "metadata": {},
   "outputs": [],
   "source": []
  }
 ],
 "metadata": {
  "kernelspec": {
   "display_name": ".venv",
   "language": "python",
   "name": "python3"
  },
  "language_info": {
   "codemirror_mode": {
    "name": "ipython",
    "version": 3
   },
   "file_extension": ".py",
   "mimetype": "text/x-python",
   "name": "python",
   "nbconvert_exporter": "python",
   "pygments_lexer": "ipython3",
   "version": "3.12.0"
  }
 },
 "nbformat": 4,
 "nbformat_minor": 2
}
