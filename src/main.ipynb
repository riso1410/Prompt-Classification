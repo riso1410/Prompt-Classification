{
 "cells": [
  {
   "cell_type": "markdown",
   "metadata": {},
   "source": [
    "# TODO\n",
    "Models to add: fasttext, MLP\n",
    "\n",
    "metrics: latency, accuracy, precision, recall, F1  \n",
    "<hr>\n",
    "pridat embedd model (fastembed)\n",
    "\n",
    "embedding models: BAAI/bge-small-en-v1.5, jinaai/jina-embeddings-v2-small-en, sentence-transformers/all-MiniLM-L6-v2\n",
    "<hr>\n",
    "otestovat potom na llame\n",
    "<hr>\n",
    "vygenerovat 100 edge case dat\n",
    "\"What are the laws for ..bullshit..\", through validation"
   ]
  },
  {
   "cell_type": "code",
   "execution_count": 1,
   "metadata": {},
   "outputs": [
    {
     "name": "stderr",
     "output_type": "stream",
     "text": [
      "c:\\Users\\riso\\Desktop\\Prompt-Classification\\.venv\\Lib\\site-packages\\tqdm\\auto.py:21: TqdmWarning: IProgress not found. Please update jupyter and ipywidgets. See https://ipywidgets.readthedocs.io/en/stable/user_install.html\n",
      "  from .autonotebook import tqdm as notebook_tqdm\n"
     ]
    },
    {
     "data": {
      "text/plain": [
       "True"
      ]
     },
     "execution_count": 1,
     "metadata": {},
     "output_type": "execute_result"
    }
   ],
   "source": [
    "from llm_classifier import LMTrainer, LMClassifier\n",
    "from svm_tfidf import SVMClassifier\n",
    "from fasttext_model import *\n",
    "from sklearn.feature_extraction.text import TfidfVectorizer\n",
    "from utilities import *\n",
    "import os\n",
    "import dotenv\n",
    "import requests\n",
    "import fasttext\n",
    "from fastembed import TextEmbedding\n",
    "\n",
    "dotenv.load_dotenv()"
   ]
  },
  {
   "cell_type": "markdown",
   "metadata": {},
   "source": [
    "# Models"
   ]
  },
  {
   "cell_type": "code",
   "execution_count": 2,
   "metadata": {},
   "outputs": [
    {
     "name": "stdout",
     "output_type": "stream",
     "text": [
      "Available models: ['gpt-4o', 'llama3.1:70b', 'llama3.1:8b', 'o1-mini', 'o1-preview', 'gpt-4', 'gpt-4o-mini', 'gpt-4-turbo']\n"
     ]
    }
   ],
   "source": [
    "def get_models() -> list:\n",
    "    url = f\"{os.getenv(\"PROXY_URL\")}/models\"\n",
    "    headers = {\"Content-Type\": \"application/json\", \"Authorization\": f\"Bearer {os.getenv(\"OPENAI_API_KEY\")}\"}\n",
    "\n",
    "    try:\n",
    "        response = requests.get(url, headers=headers)\n",
    "        response.raise_for_status()\n",
    "        models = response.json()\n",
    "        models = [model[\"id\"] for model in models[\"data\"]]\n",
    "        return models\n",
    "    except requests.exceptions.RequestException as e:\n",
    "        print(f\"An error occurred: {e}\")\n",
    "        return None\n",
    "\n",
    "# Example usage\n",
    "available_models = get_models()\n",
    "if available_models:\n",
    "    print(\"Available models:\", available_models)\n",
    "else:\n",
    "    print(\"Failed to retrieve models\")"
   ]
  },
  {
   "cell_type": "markdown",
   "metadata": {},
   "source": [
    "# Embedding Models"
   ]
  },
  {
   "cell_type": "code",
   "execution_count": 3,
   "metadata": {},
   "outputs": [
    {
     "name": "stderr",
     "output_type": "stream",
     "text": [
      "Fetching 5 files: 100%|██████████| 5/5 [00:00<?, ?it/s]\n",
      "Fetching 5 files: 100%|██████████| 5/5 [00:00<?, ?it/s]\n",
      "Fetching 5 files: 100%|██████████| 5/5 [00:00<?, ?it/s]\n"
     ]
    }
   ],
   "source": [
    "baai_embedding = TextEmbedding(model_name=\"BAAI/bge-small-en-v1.5\")\n",
    "jina_embedding = TextEmbedding(model_name=\"jinaai/jina-embeddings-v2-small-en\")\n",
    "miniLM_embedding = TextEmbedding(model_name=\"sentence-transformers/all-MiniLM-L6-v2\")"
   ]
  },
  {
   "cell_type": "markdown",
   "metadata": {},
   "source": [
    "# GPT-4o-mini"
   ]
  },
  {
   "cell_type": "code",
   "execution_count": 4,
   "metadata": {},
   "outputs": [
    {
     "name": "stdout",
     "output_type": "stream",
     "text": [
      "Train data: 100\n",
      "Test data: 300\n"
     ]
    }
   ],
   "source": [
    "api_key = os.getenv(\"OPENAI_API_KEY\")\n",
    "proxy_url = os.getenv(\"PROXY_URL\")\n",
    "\n",
    "gpt_model = LMClassifier(api_key=api_key, proxy_url=proxy_url, domain='law', model_name='gpt-4o-mini', train_size=100, test_size=300)\n",
    "gpt_model.load_data(open_path=\"../data/open_domain_data.csv\", specific_path=\"../data/specific_domain_data.csv\")\n",
    "\n",
    "trainer = LMTrainer(gpt_model.train_data)"
   ]
  },
  {
   "cell_type": "code",
   "execution_count": 5,
   "metadata": {},
   "outputs": [
    {
     "name": "stdout",
     "output_type": "stream",
     "text": [
      "Going to sample between 1 and 4 traces per predictor.\n",
      "Will attempt to bootstrap 5 candidate sets.\n"
     ]
    },
    {
     "name": "stderr",
     "output_type": "stream",
     "text": [
      "Average Metric: 97 / 100  (97.0): 100%|██████████| 100/100 [00:00<00:00, 384.41it/s]\n"
     ]
    },
    {
     "name": "stdout",
     "output_type": "stream",
     "text": [
      "New best score: 97.0 for seed -3\n",
      "Scores so far: [97.0]\n",
      "Best score so far: 97.0\n"
     ]
    },
    {
     "name": "stderr",
     "output_type": "stream",
     "text": [
      "Average Metric: 98 / 100  (98.0): 100%|██████████| 100/100 [00:00<00:00, 377.25it/s]\n"
     ]
    },
    {
     "name": "stdout",
     "output_type": "stream",
     "text": [
      "New best score: 98.0 for seed -2\n",
      "Scores so far: [97.0, 98.0]\n",
      "Best score so far: 98.0\n"
     ]
    },
    {
     "name": "stderr",
     "output_type": "stream",
     "text": [
      "  4%|▍         | 4/100 [00:00<?, ?it/s]\n"
     ]
    },
    {
     "name": "stdout",
     "output_type": "stream",
     "text": [
      "Bootstrapped 4 full traces after 5 examples in round 0.\n"
     ]
    },
    {
     "name": "stderr",
     "output_type": "stream",
     "text": [
      "Average Metric: 99 / 100  (99.0): 100%|██████████| 100/100 [00:00<00:00, 342.03it/s]\n"
     ]
    },
    {
     "name": "stdout",
     "output_type": "stream",
     "text": [
      "New best score: 99.0 for seed -1\n",
      "Scores so far: [97.0, 98.0, 99.0]\n",
      "Best score so far: 99.0\n"
     ]
    },
    {
     "name": "stderr",
     "output_type": "stream",
     "text": [
      "  4%|▍         | 4/100 [00:00<00:00, 256.00it/s]\n"
     ]
    },
    {
     "name": "stdout",
     "output_type": "stream",
     "text": [
      "Bootstrapped 4 full traces after 5 examples in round 0.\n"
     ]
    },
    {
     "name": "stderr",
     "output_type": "stream",
     "text": [
      "Average Metric: 98 / 100  (98.0): 100%|██████████| 100/100 [00:00<00:00, 350.94it/s]\n"
     ]
    },
    {
     "name": "stdout",
     "output_type": "stream",
     "text": [
      "Scores so far: [97.0, 98.0, 99.0, 98.0]\n",
      "Best score so far: 99.0\n"
     ]
    },
    {
     "name": "stderr",
     "output_type": "stream",
     "text": [
      "  2%|▏         | 2/100 [00:00<00:00, 285.32it/s]\n"
     ]
    },
    {
     "name": "stdout",
     "output_type": "stream",
     "text": [
      "Bootstrapped 2 full traces after 3 examples in round 0.\n"
     ]
    },
    {
     "name": "stderr",
     "output_type": "stream",
     "text": [
      "Average Metric: 98 / 100  (98.0): 100%|██████████| 100/100 [00:00<00:00, 343.30it/s]\n"
     ]
    },
    {
     "name": "stdout",
     "output_type": "stream",
     "text": [
      "Scores so far: [97.0, 98.0, 99.0, 98.0, 98.0]\n",
      "Best score so far: 99.0\n"
     ]
    },
    {
     "name": "stderr",
     "output_type": "stream",
     "text": [
      "  1%|          | 1/100 [00:00<?, ?it/s]\n"
     ]
    },
    {
     "name": "stdout",
     "output_type": "stream",
     "text": [
      "Bootstrapped 1 full traces after 2 examples in round 0.\n"
     ]
    },
    {
     "name": "stderr",
     "output_type": "stream",
     "text": [
      "Average Metric: 98 / 100  (98.0): 100%|██████████| 100/100 [00:00<00:00, 341.88it/s]\n"
     ]
    },
    {
     "name": "stdout",
     "output_type": "stream",
     "text": [
      "Scores so far: [97.0, 98.0, 99.0, 98.0, 98.0, 98.0]\n",
      "Best score so far: 99.0\n"
     ]
    },
    {
     "name": "stderr",
     "output_type": "stream",
     "text": [
      "  2%|▏         | 2/100 [00:00<?, ?it/s]\n"
     ]
    },
    {
     "name": "stdout",
     "output_type": "stream",
     "text": [
      "Bootstrapped 2 full traces after 3 examples in round 0.\n"
     ]
    },
    {
     "name": "stderr",
     "output_type": "stream",
     "text": [
      "Average Metric: 99 / 100  (99.0): 100%|██████████| 100/100 [00:00<00:00, 279.46it/s]\n"
     ]
    },
    {
     "name": "stdout",
     "output_type": "stream",
     "text": [
      "Scores so far: [97.0, 98.0, 99.0, 98.0, 98.0, 98.0, 99.0]\n",
      "Best score so far: 99.0\n"
     ]
    },
    {
     "name": "stderr",
     "output_type": "stream",
     "text": [
      "  2%|▏         | 2/100 [00:00<00:00, 375.65it/s]\n"
     ]
    },
    {
     "name": "stdout",
     "output_type": "stream",
     "text": [
      "Bootstrapped 2 full traces after 3 examples in round 0.\n"
     ]
    },
    {
     "name": "stderr",
     "output_type": "stream",
     "text": [
      "Average Metric: 99 / 100  (99.0): 100%|██████████| 100/100 [00:00<00:00, 214.91it/s]\n"
     ]
    },
    {
     "name": "stdout",
     "output_type": "stream",
     "text": [
      "Scores so far: [97.0, 98.0, 99.0, 98.0, 98.0, 98.0, 99.0, 99.0]\n",
      "Best score so far: 99.0\n",
      "8 candidate programs found.\n"
     ]
    },
    {
     "data": {
      "image/png": "[encoded data removed]",
      "text/plain": [
       "<Figure size 640x480 with 2 Axes>"
      ]
     },
     "metadata": {},
     "output_type": "display_data"
    },
    {
     "name": "stdout",
     "output_type": "stream",
     "text": [
      "Total cost is: 0.00078375$\n",
      "F1 score: 0.97\n",
      "Accuracy: 0.98\n",
      "Recall: 0.95\n",
      "Precision: 1.00\n"
     ]
    }
   ],
   "source": [
    "predictions = []\n",
    "true_labels = []\n",
    "total_cost = 0\n",
    "\n",
    "compiled_model = trainer.optimize_model()\n",
    "\n",
    "for example in gpt_model.test_data:\n",
    "    prediction = trainer.optimized_model(prompt=example.prompt, domain=example.domain).label\n",
    "    predictions.append(prediction)\n",
    "    true_labels.append(example.label)\n",
    "    total_cost += calculate_prompt_cost(example.prompt+example.domain, completion=prediction, model_name=gpt_model.model_name)\n",
    "\n",
    "f1, accuracy, recall, precision = trainer.evaluate(predictions, true_labels)\n",
    "\n",
    "print(f\"Total cost is: {total_cost:.8f}$\")\n",
    "print(f\"F1 score: {f1:.2f}\")\n",
    "print(f\"Accuracy: {accuracy:.2f}\")\n",
    "print(f\"Recall: {recall:.2f}\")\n",
    "print(f\"Precision: {precision:.2f}\")\n",
    "\n",
    "#trainer.save_model(f\"../models/{gpt_model.model_name}.json\")"
   ]
  },
  {
   "cell_type": "code",
   "execution_count": 6,
   "metadata": {},
   "outputs": [
    {
     "name": "stdout",
     "output_type": "stream",
     "text": [
      "Model loaded from ../models/gpt-4o-mini.json\n",
      "Prediction results: 1\n"
     ]
    }
   ],
   "source": [
    "trainer.load_model(f\"../models/{gpt_model.model_name}.json\")\n",
    "\n",
    "results = trainer.predict(prompt=\"What are the laws for eating in car?\", domain=\"law\")\n",
    "\n",
    "print(f\"Prediction results: {results}\")"
   ]
  },
  {
   "cell_type": "markdown",
   "metadata": {},
   "source": [
    "# SVM-TFIDF"
   ]
  },
  {
   "cell_type": "code",
   "execution_count": 7,
   "metadata": {},
   "outputs": [],
   "source": [
    "config = {\n",
    "    'C': 0.05,\n",
    "    'train_size': 5_000,\n",
    "    'test_size': 20_000,\n",
    "    'seed': 22,\n",
    "    'embedding': baai_embedding,\n",
    "}\n",
    "\n",
    "svm_classifier = SVMClassifier(config=config)\n",
    "\n",
    "X_train, X_test, y_train, y_test = svm_classifier.prepare_data(open_path=\"../data/open_domain_data.csv\", \n",
    "                                                                specific_path=\"../data/specific_domain_data.csv\")"
   ]
  },
  {
   "cell_type": "code",
   "execution_count": 8,
   "metadata": {},
   "outputs": [
    {
     "name": "stdout",
     "output_type": "stream",
     "text": [
      "Cross-validation scores: [0.98875 0.989   0.988   0.9925  0.99125]\n",
      "Mean cross-validation score: 0.9899000000000001\n"
     ]
    },
    {
     "data": {
      "image/png": "[encoded data removed]",
      "text/plain": [
       "<Figure size 640x480 with 2 Axes>"
      ]
     },
     "metadata": {},
     "output_type": "display_data"
    },
    {
     "name": "stdout",
     "output_type": "stream",
     "text": [
      "F1 score: 0.99\n",
      "Accuracy: 0.99\n",
      "Recall: 0.98\n",
      "Precision: 0.99\n"
     ]
    }
   ],
   "source": [
    "svm_classifier.train(X_train, y_train)\n",
    "svm_classifier.cross_validate(X_test, y_test)\n",
    "f1, accuracy, recall, precision = svm_classifier.evaluate(X_test, y_test)\n",
    "\n",
    "print(f\"F1 score: {f1:.2f}\")\n",
    "print(f\"Accuracy: {accuracy:.2f}\")\n",
    "print(f\"Recall: {recall:.2f}\")\n",
    "print(f\"Precision: {precision:.2f}\")"
   ]
  },
  {
   "cell_type": "code",
   "execution_count": 10,
   "metadata": {},
   "outputs": [
    {
     "name": "stdout",
     "output_type": "stream",
     "text": [
      "Model saved to ../models/SVM_TFIDF.joblib\n"
     ]
    }
   ],
   "source": [
    "# Save the model\n",
    "svm_classifier.save_model(model_path=f'../models/{svm_classifier.model_name}.joblib')"
   ]
  },
  {
   "cell_type": "code",
   "execution_count": 11,
   "metadata": {},
   "outputs": [
    {
     "name": "stdout",
     "output_type": "stream",
     "text": [
      "[1]\n"
     ]
    }
   ],
   "source": [
    "result = svm_classifier.predict(\"What are the laws for eating in car?\")\n",
    "\n",
    "print(result)"
   ]
  },
  {
   "cell_type": "markdown",
   "metadata": {},
   "source": [
    "# FastText"
   ]
  },
  {
   "cell_type": "code",
   "execution_count": 12,
   "metadata": {},
   "outputs": [],
   "source": [
    "def print_results(N, p, r):\n",
    "    print(\"N\\t\" + str(N))\n",
    "    print(\"P@{}\\t{:.3f}\".format(1, p))\n",
    "    print(\"R@{}\\t{:.3f}\".format(1, r))"
   ]
  },
  {
   "cell_type": "code",
   "execution_count": 13,
   "metadata": {},
   "outputs": [
    {
     "name": "stdout",
     "output_type": "stream",
     "text": [
      "An error occurred while writing to ../data/fasttext_train.txt: 'charmap' codec can't encode character '\\u2192' in position 73: character maps to <undefined>\n",
      "An error occurred while writing to ../data/fasttext_test.txt: 'charmap' codec can't encode character '\\u039b' in position 22: character maps to <undefined>\n",
      "N\t341\n",
      "P@1\t0.812\n",
      "R@1\t0.812\n"
     ]
    }
   ],
   "source": [
    "fasttext_model = FastText(train_size=20_000, test_size=5000)\n",
    "\n",
    "train_file = \"../data/fasttext_train.txt\"\n",
    "test_file = \"../data/fasttext_test.txt\"\n",
    "\n",
    "fasttext_model.preprocess_data(open_path=\"../data/open_domain_data.csv\", specific_path=\"../data/specific_domain_data.csv\", \n",
    "                               train_file=train_file, test_file=test_file)\n",
    "\n",
    "ft_model = fasttext.train_supervised(train_file)\n",
    "print_results(*ft_model.test(test_file))"
   ]
  },
  {
   "cell_type": "code",
   "execution_count": 14,
   "metadata": {},
   "outputs": [
    {
     "data": {
      "text/plain": [
       "([['__label__0']], [array([0.8272066], dtype=float32)])"
      ]
     },
     "execution_count": 14,
     "metadata": {},
     "output_type": "execute_result"
    }
   ],
   "source": [
    "ft_model.predict([\"What are the laws for eating in car?\"])"
   ]
  },
  {
   "cell_type": "code",
   "execution_count": null,
   "metadata": {},
   "outputs": [],
   "source": []
  }
 ],
 "metadata": {
  "kernelspec": {
   "display_name": ".venv",
   "language": "python",
   "name": "python3"
  },
  "language_info": {
   "codemirror_mode": {
    "name": "ipython",
    "version": 3
   },
   "file_extension": ".py",
   "mimetype": "text/x-python",
   "name": "python",
   "nbconvert_exporter": "python",
   "pygments_lexer": "ipython3",
   "version": "3.12.0"
  }
 },
 "nbformat": 4,
 "nbformat_minor": 2
}
