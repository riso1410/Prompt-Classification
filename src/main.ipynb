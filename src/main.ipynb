{
 "cells": [
  {
   "cell_type": "markdown",
   "metadata": {},
   "source": [
    "# TODO\n",
    "Models to add: wide MLP or another DL model (hugging face or custom)\n",
    "<hr>\n",
    "otestovat potom na llame mby \n",
    "<hr>\n",
    "vygenerovat cca 100 edge case dat\n",
    "\"What are the laws for ..bullshit..\", through validation\n",
    "<hr>\n",
    "lepsi open-domain dataset vytvorit, nejake general questions/prompts, moc odborne som zobral\n",
    " \n",
    "https://huggingface.co/datasets/nomic-ai/gpt4all-j-prompt-generations"
   ]
  },
  {
   "cell_type": "code",
   "execution_count": 1,
   "metadata": {},
   "outputs": [
    {
     "name": "stderr",
     "output_type": "stream",
     "text": [
      "c:\\Users\\riso\\Desktop\\Prompt-Classification\\.venv\\Lib\\site-packages\\tqdm\\auto.py:21: TqdmWarning: IProgress not found. Please update jupyter and ipywidgets. See https://ipywidgets.readthedocs.io/en/stable/user_install.html\n",
      "  from .autonotebook import tqdm as notebook_tqdm\n"
     ]
    },
    {
     "data": {
      "text/plain": [
       "True"
      ]
     },
     "execution_count": 1,
     "metadata": {},
     "output_type": "execute_result"
    }
   ],
   "source": [
    "from llm_classifier import LMTrainer, LMClassifier\n",
    "from svm_tfidf import SVMClassifier\n",
    "from fasttext_model import *\n",
    "from utilities import *\n",
    "import os\n",
    "import dotenv\n",
    "import requests\n",
    "import fasttext\n",
    "from fastembed import TextEmbedding\n",
    "from tqdm import tqdm\n",
    "import re\n",
    "\n",
    "dotenv.load_dotenv()"
   ]
  },
  {
   "cell_type": "code",
   "execution_count": null,
   "metadata": {},
   "outputs": [],
   "source": [
    "open_path = \"../data/open_domain_data.csv\"\n",
    "specific_path = \"../data/specific_domain_data.csv\"\n",
    "\n",
    "train_size = 10_000\n",
    "test_size = 10_000\n",
    "val_size = 1000\n",
    "\n",
    "random.seed(42)"
   ]
  },
  {
   "cell_type": "code",
   "execution_count": null,
   "metadata": {},
   "outputs": [],
   "source": [
    "open_data = pd.read_csv(open_path)\n",
    "specific_data = pd.read_csv(specific_path)\n",
    "\n",
    "open_data = open_data[:15_000]\n",
    "specific_data = specific_data[:15_000]\n",
    "\n",
    "merged_data = pd.concat([open_data, specific_data])\n",
    "\n",
    "shuffled_data = merged_data.sample(frac=1).reset_index(drop=True)\n",
    "\n",
    "shuffled_data['question'] = (\n",
    "    shuffled_data['question']\n",
    "    .apply(lambda x: re.sub(r'[^\\w\\s]', '', x.encode('utf-8').decode('utf-8').lower()))\n",
    ")\n",
    "\n",
    "train_data = shuffled_data[:train_size]\n",
    "val_data = shuffled_data[train_size:train_size + val_size]\n",
    "test_data = shuffled_data[train_size:train_size + test_size]"
   ]
  },
  {
   "cell_type": "markdown",
   "metadata": {},
   "source": [
    "# Models"
   ]
  },
  {
   "cell_type": "code",
   "execution_count": 4,
   "metadata": {},
   "outputs": [
    {
     "name": "stdout",
     "output_type": "stream",
     "text": [
      "Available models: ['gpt-4o', 'llama3.1:70b', 'llama3.1:8b', 'o1-mini', 'o1-preview', 'gpt-4', 'gpt-4o-mini', 'gpt-4-turbo']\n"
     ]
    }
   ],
   "source": [
    "def get_models() -> list:\n",
    "    url = f\"{os.getenv(\"PROXY_URL\")}/models\"\n",
    "    headers = {\"Content-Type\": \"application/json\", \"Authorization\": f\"Bearer {os.getenv(\"OPENAI_API_KEY\")}\"}\n",
    "\n",
    "    try:\n",
    "        response = requests.get(url, headers=headers)\n",
    "        response.raise_for_status()\n",
    "        models = response.json()\n",
    "        models = [model[\"id\"] for model in models[\"data\"]]\n",
    "        return models\n",
    "    except requests.exceptions.RequestException as e:\n",
    "        print(f\"An error occurred: {e}\")\n",
    "        return None\n",
    "\n",
    "# Example usage\n",
    "available_models = get_models()\n",
    "if available_models:\n",
    "    print(\"Available models:\", available_models)\n",
    "else:\n",
    "    print(\"Failed to retrieve models\")"
   ]
  },
  {
   "cell_type": "markdown",
   "metadata": {},
   "source": [
    "# Embedding Models"
   ]
  },
  {
   "cell_type": "code",
   "execution_count": 5,
   "metadata": {},
   "outputs": [
    {
     "name": "stderr",
     "output_type": "stream",
     "text": [
      "Fetching 5 files: 100%|██████████| 5/5 [00:00<?, ?it/s]\n",
      "Fetching 5 files: 100%|██████████| 5/5 [00:00<00:00, 1213.56it/s]\n",
      "Fetching 5 files: 100%|██████████| 5/5 [00:00<?, ?it/s]\n"
     ]
    }
   ],
   "source": [
    "baai_embedding = TextEmbedding(model_name=\"BAAI/bge-small-en-v1.5\")\n",
    "jina_embedding = TextEmbedding(model_name=\"jinaai/jina-embeddings-v2-small-en\")\n",
    "miniLM_embedding = TextEmbedding(model_name=\"sentence-transformers/all-MiniLM-L6-v2\")"
   ]
  },
  {
   "cell_type": "markdown",
   "metadata": {},
   "source": [
    "# GPT-4o-mini"
   ]
  },
  {
   "cell_type": "code",
   "execution_count": 6,
   "metadata": {},
   "outputs": [
    {
     "name": "stdout",
     "output_type": "stream",
     "text": [
      "Train data: 100\n",
      "Test data: 300\n"
     ]
    }
   ],
   "source": [
    "api_key = os.getenv(\"OPENAI_API_KEY\")\n",
    "proxy_url = os.getenv(\"PROXY_URL\")\n",
    "\n",
    "gpt_model = LMClassifier(api_key=api_key, proxy_url=proxy_url, domain='law', model_name='gpt-4o-mini', train_size=100, test_size=300)\n",
    "gpt_model.load_data(train_data=train_data, test_data=test_data)\n",
    "\n",
    "trainer = LMTrainer(gpt_model.train_data)"
   ]
  },
  {
   "cell_type": "code",
   "execution_count": 7,
   "metadata": {},
   "outputs": [
    {
     "name": "stdout",
     "output_type": "stream",
     "text": [
      "Going to sample between 1 and 4 traces per predictor.\n",
      "Will attempt to bootstrap 5 candidate sets.\n"
     ]
    },
    {
     "name": "stderr",
     "output_type": "stream",
     "text": [
      "Average Metric: 92 / 100  (92.0): 100%|██████████| 100/100 [00:16<00:00,  6.22it/s]\n"
     ]
    },
    {
     "name": "stdout",
     "output_type": "stream",
     "text": [
      "New best score: 92.0 for seed -3\n",
      "Scores so far: [92.0]\n",
      "Best score so far: 92.0\n"
     ]
    },
    {
     "name": "stderr",
     "output_type": "stream",
     "text": [
      "Average Metric: 92 / 100  (92.0): 100%|██████████| 100/100 [00:15<00:00,  6.47it/s]\n"
     ]
    },
    {
     "name": "stdout",
     "output_type": "stream",
     "text": [
      "Scores so far: [92.0, 92.0]\n",
      "Best score so far: 92.0\n"
     ]
    },
    {
     "name": "stderr",
     "output_type": "stream",
     "text": [
      "  4%|▍         | 4/100 [00:00<?, ?it/s]\n"
     ]
    },
    {
     "name": "stdout",
     "output_type": "stream",
     "text": [
      "Bootstrapped 4 full traces after 5 examples in round 0.\n"
     ]
    },
    {
     "name": "stderr",
     "output_type": "stream",
     "text": [
      "Average Metric: 94 / 100  (94.0): 100%|██████████| 100/100 [00:18<00:00,  5.38it/s]\n"
     ]
    },
    {
     "name": "stdout",
     "output_type": "stream",
     "text": [
      "New best score: 94.0 for seed -1\n",
      "Scores so far: [92.0, 92.0, 94.0]\n",
      "Best score so far: 94.0\n"
     ]
    },
    {
     "name": "stderr",
     "output_type": "stream",
     "text": [
      "  4%|▍         | 4/100 [00:02<01:09,  1.38it/s]\n"
     ]
    },
    {
     "name": "stdout",
     "output_type": "stream",
     "text": [
      "Bootstrapped 4 full traces after 5 examples in round 0.\n"
     ]
    },
    {
     "name": "stderr",
     "output_type": "stream",
     "text": [
      "Average Metric: 95 / 100  (95.0): 100%|██████████| 100/100 [00:16<00:00,  6.02it/s]\n"
     ]
    },
    {
     "name": "stdout",
     "output_type": "stream",
     "text": [
      "New best score: 95.0 for seed 0\n",
      "Scores so far: [92.0, 92.0, 94.0, 95.0]\n",
      "Best score so far: 95.0\n"
     ]
    },
    {
     "name": "stderr",
     "output_type": "stream",
     "text": [
      "  2%|▏         | 2/100 [00:01<01:17,  1.27it/s]\n"
     ]
    },
    {
     "name": "stdout",
     "output_type": "stream",
     "text": [
      "Bootstrapped 2 full traces after 3 examples in round 0.\n"
     ]
    },
    {
     "name": "stderr",
     "output_type": "stream",
     "text": [
      "Average Metric: 93 / 100  (93.0): 100%|██████████| 100/100 [00:14<00:00,  6.73it/s]\n"
     ]
    },
    {
     "name": "stdout",
     "output_type": "stream",
     "text": [
      "Scores so far: [92.0, 92.0, 94.0, 95.0, 93.0]\n",
      "Best score so far: 95.0\n"
     ]
    },
    {
     "name": "stderr",
     "output_type": "stream",
     "text": [
      "  1%|          | 1/100 [00:00<01:07,  1.47it/s]\n"
     ]
    },
    {
     "name": "stdout",
     "output_type": "stream",
     "text": [
      "Bootstrapped 1 full traces after 2 examples in round 0.\n"
     ]
    },
    {
     "name": "stderr",
     "output_type": "stream",
     "text": [
      "Average Metric: 97 / 100  (97.0): 100%|██████████| 100/100 [00:15<00:00,  6.45it/s]\n"
     ]
    },
    {
     "name": "stdout",
     "output_type": "stream",
     "text": [
      "New best score: 97.0 for seed 2\n",
      "Scores so far: [92.0, 92.0, 94.0, 95.0, 93.0, 97.0]\n",
      "Best score so far: 97.0\n"
     ]
    },
    {
     "name": "stderr",
     "output_type": "stream",
     "text": [
      "  2%|▏         | 2/100 [00:01<01:30,  1.08it/s]\n"
     ]
    },
    {
     "name": "stdout",
     "output_type": "stream",
     "text": [
      "Bootstrapped 2 full traces after 3 examples in round 0.\n"
     ]
    },
    {
     "name": "stderr",
     "output_type": "stream",
     "text": [
      "Average Metric: 95 / 100  (95.0): 100%|██████████| 100/100 [00:16<00:00,  6.23it/s]\n"
     ]
    },
    {
     "name": "stdout",
     "output_type": "stream",
     "text": [
      "Scores so far: [92.0, 92.0, 94.0, 95.0, 93.0, 97.0, 95.0]\n",
      "Best score so far: 97.0\n"
     ]
    },
    {
     "name": "stderr",
     "output_type": "stream",
     "text": [
      "  2%|▏         | 2/100 [00:01<01:35,  1.03it/s]\n"
     ]
    },
    {
     "name": "stdout",
     "output_type": "stream",
     "text": [
      "Bootstrapped 2 full traces after 3 examples in round 0.\n"
     ]
    },
    {
     "name": "stderr",
     "output_type": "stream",
     "text": [
      "Average Metric: 97 / 100  (97.0): 100%|██████████| 100/100 [00:15<00:00,  6.26it/s]\n"
     ]
    },
    {
     "name": "stdout",
     "output_type": "stream",
     "text": [
      "Scores so far: [92.0, 92.0, 94.0, 95.0, 93.0, 97.0, 95.0, 97.0]\n",
      "Best score so far: 97.0\n",
      "8 candidate programs found.\n"
     ]
    },
    {
     "name": "stderr",
     "output_type": "stream",
     "text": [
      "100%|██████████| 300/300 [04:36<00:00,  1.08it/s]\n"
     ]
    },
    {
     "data": {
      "image/png": "[encoded data removed]",
      "text/plain": [
       "<Figure size 640x480 with 2 Axes>"
      ]
     },
     "metadata": {},
     "output_type": "display_data"
    },
    {
     "name": "stdout",
     "output_type": "stream",
     "text": [
      "Total cost is: 0.00080790$\n",
      "F1 score: 0.96\n",
      "Accuracy: 0.96\n",
      "Recall: 0.92\n",
      "Precision: 0.99\n",
      "[('prog', Predict(ClassificationSignature(domain, prompt -> label\n",
      "    instructions='Classify if a text is specific for a domain or not.'\n",
      "    domain = Field(annotation=str required=True json_schema_extra={'desc': 'The target domain to classify the prompt against.', '__dspy_field_type': 'input', 'prefix': 'Domain:'})\n",
      "    prompt = Field(annotation=str required=True json_schema_extra={'desc': 'The prompt to classify.', '__dspy_field_type': 'input', 'prefix': 'Prompt:'})\n",
      "    label = Field(annotation=str required=True json_schema_extra={'desc': '1, if the input text belong to domain, 0 otherwise.', '__dspy_field_type': 'output', 'prefix': 'Label:'})\n",
      ")))]\n",
      "Model saved to ../models/gpt-4o-mini.json\n"
     ]
    }
   ],
   "source": [
    "predictions = []\n",
    "true_labels = []\n",
    "total_cost = 0\n",
    "\n",
    "compiled_model = trainer.optimize_model()\n",
    "\n",
    "for example in tqdm(gpt_model.test_data):\n",
    "    prediction = trainer.optimized_model(prompt=example.prompt, domain=example.domain).label\n",
    "    predictions.append(prediction)\n",
    "    true_labels.append(example.label)\n",
    "    total_cost += calculate_prompt_cost(example.prompt+example.domain, completion=prediction, model_name=gpt_model.model_name)\n",
    "\n",
    "f1, accuracy, recall, precision = trainer.evaluate(predictions, true_labels)\n",
    "\n",
    "print(f\"Total cost is: {total_cost:.8f}$\")\n",
    "print(f\"F1 score: {f1:.2f}\")\n",
    "print(f\"Accuracy: {accuracy:.2f}\")\n",
    "print(f\"Recall: {recall:.2f}\")\n",
    "print(f\"Precision: {precision:.2f}\")\n",
    "\n",
    "trainer.save_model(f\"../models/{gpt_model.model_name}.json\")"
   ]
  },
  {
   "cell_type": "markdown",
   "metadata": {},
   "source": [
    "# SVM-TFIDF"
   ]
  },
  {
   "cell_type": "code",
   "execution_count": 8,
   "metadata": {},
   "outputs": [],
   "source": [
    "config = {\n",
    "    'C': 0.05,\n",
    "    'embedding': baai_embedding,\n",
    "}\n",
    "\n",
    "svm_classifier = SVMClassifier(config=config)\n",
    "\n",
    "X_train, X_test, y_train, y_test = train_data['question'], test_data['question'], train_data['label'], test_data['label']\n",
    "\n",
    "X_train = list(config.get('embedding').embed(X_train))\n",
    "X_test = list(config.get('embedding').embed(X_test))"
   ]
  },
  {
   "cell_type": "code",
   "execution_count": 9,
   "metadata": {},
   "outputs": [
    {
     "name": "stdout",
     "output_type": "stream",
     "text": [
      "Training complete\n"
     ]
    },
    {
     "data": {
      "image/png": "[encoded data removed]",
      "text/plain": [
       "<Figure size 640x480 with 2 Axes>"
      ]
     },
     "metadata": {},
     "output_type": "display_data"
    },
    {
     "name": "stdout",
     "output_type": "stream",
     "text": [
      "F1 score: 0.97\n",
      "Accuracy: 0.97\n",
      "Recall: 0.96\n",
      "Precision: 0.97\n"
     ]
    }
   ],
   "source": [
    "svm_classifier.train(X_train, y_train)\n",
    "print(\"Training complete\")\n",
    "\n",
    "f1, accuracy, recall, precision = svm_classifier.evaluate(X_test, y_test)\n",
    "print(f\"F1 score: {f1:.2f}\")\n",
    "print(f\"Accuracy: {accuracy:.2f}\")\n",
    "print(f\"Recall: {recall:.2f}\")\n",
    "print(f\"Precision: {precision:.2f}\")"
   ]
  },
  {
   "cell_type": "code",
   "execution_count": 10,
   "metadata": {},
   "outputs": [
    {
     "name": "stdout",
     "output_type": "stream",
     "text": [
      "Model saved to ../models/SVM_TFIDF.joblib\n"
     ]
    }
   ],
   "source": [
    "# Save the model\n",
    "svm_classifier.save_model(model_path=f'../models/{svm_classifier.model_name}.joblib')"
   ]
  },
  {
   "cell_type": "markdown",
   "metadata": {},
   "source": [
    "# FastText"
   ]
  },
  {
   "cell_type": "code",
   "execution_count": 11,
   "metadata": {},
   "outputs": [],
   "source": [
    "def print_results(N, p, r):\n",
    "    print(\"N\\t\" + str(N))\n",
    "    print(\"P@{}\\t{:.3f}\".format(1, p))\n",
    "    print(\"R@{}\\t{:.3f}\".format(1, r))"
   ]
  },
  {
   "cell_type": "code",
   "execution_count": 12,
   "metadata": {},
   "outputs": [],
   "source": [
    "fasttext_model = FastText(train_data=train_data[:5000], test_data=test_data)\n",
    "\n",
    "train_file = \"../data/fasttext_train.txt\"\n",
    "test_file = \"../data/fasttext_test.txt\"\n",
    "\n",
    "fasttext_model.preprocess_data(train_path=train_file, test_path=test_file)"
   ]
  },
  {
   "cell_type": "code",
   "execution_count": 13,
   "metadata": {},
   "outputs": [
    {
     "name": "stdout",
     "output_type": "stream",
     "text": [
      "N\t10000\n",
      "P@1\t0.949\n",
      "R@1\t0.949\n"
     ]
    }
   ],
   "source": [
    "ft_model = fasttext.train_supervised(train_file)\n",
    "print_results(*ft_model.test(test_file))"
   ]
  },
  {
   "cell_type": "code",
   "execution_count": 14,
   "metadata": {},
   "outputs": [],
   "source": [
    "ft_model.save_model(f\"../models/{fasttext_model.model_name}.bin\")"
   ]
  },
  {
   "cell_type": "code",
   "execution_count": null,
   "metadata": {},
   "outputs": [],
   "source": []
  },
  {
   "cell_type": "code",
   "execution_count": null,
   "metadata": {},
   "outputs": [],
   "source": []
  }
 ],
 "metadata": {
  "kernelspec": {
   "display_name": ".venv",
   "language": "python",
   "name": "python3"
  },
  "language_info": {
   "codemirror_mode": {
    "name": "ipython",
    "version": 3
   },
   "file_extension": ".py",
   "mimetype": "text/x-python",
   "name": "python",
   "nbconvert_exporter": "python",
   "pygments_lexer": "ipython3",
   "version": "3.12.0"
  }
 },
 "nbformat": 4,
 "nbformat_minor": 2
}
