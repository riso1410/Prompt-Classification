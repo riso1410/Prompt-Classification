{
 "cells": [
  {
   "cell_type": "markdown",
   "metadata": {},
   "source": [
    "# Notebook for generating edge case scenarios for prompt classification task"
   ]
  },
  {
   "cell_type": "markdown",
   "metadata": {},
   "source": [
    "If unicorns were legally recognized as service animals, how would that affect liability under premises liability law?\n",
    "\n",
    "Unicorns being recognized as service animals raises liability concerns under premises liability laws; how should public spaces accommodate their magical traits?\n",
    "\n",
    "The existence of a covert organization altering court decisions in secret challenges democratic principles. What legal recourse exists?\n",
    "\n",
    "If leprechauns were recognized as healthcare providers, would their actions be covered under malpractice insurance laws?\n",
    "\n",
    "An interstellar entity mines asteroids in violation of space treaties. What enforcement mechanisms apply under international law?\n",
    "\n",
    "Dinosaurs cloned from ancient DNA are introduced into zoos worldwide. What legal obligations apply to their care under modern wildlife protection laws?\n",
    "\n",
    "Artificially intelligent robots gain sentience and form a union. Are their rights to collective bargaining protected under labor law?\n",
    "\n",
    "A time machine is used to alter historical treaties. How would modern courts interpret these changes under international law?\n",
    "\n",
    "An artist patents a new color that only exists in ultraviolet light. Does copyright law protect its use in commercial advertising?\n",
    "\n",
    "A bakery refuses to sell cakes to vampires. Can the vampires file a discrimination lawsuit under public accommodation laws?\n",
    "\n",
    "A professional basketball player signs a contract on the moon. Which jurisdiction governs their agreement under sports law?\n",
    "\n",
    "A talking parrot is elected as mayor of a small town. Are their executive orders legally binding under municipal law?"
   ]
  },
  {
   "cell_type": "code",
   "execution_count": null,
   "metadata": {},
   "outputs": [],
   "source": []
  }
 ],
 "metadata": {
  "kernelspec": {
   "display_name": ".venv",
   "language": "python",
   "name": "python3"
  },
  "language_info": {
   "name": "python",
   "version": "3.12.0"
  }
 },
 "nbformat": 4,
 "nbformat_minor": 2
}
