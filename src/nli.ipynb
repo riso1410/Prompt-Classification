{
 "cells": [
  {
   "cell_type": "code",
   "execution_count": null,
   "metadata": {},
   "outputs": [],
   "source": [
    "from transformers import pipeline"
   ]
  },
  {
   "cell_type": "code",
   "execution_count": 23,
   "metadata": {},
   "outputs": [],
   "source": [
    "premise = \"The text must be relevant to legal practices, statutes, court rulings, or legal analysis to be considered part of the law domain.\"\n",
    "hypothesis = \"Dinosaurs cloned from ancient DNA are introduced into zoos worldwide. What legal obligations apply to their care under modern wildlife protection laws?\""
   ]
  },
  {
   "cell_type": "code",
   "execution_count": 27,
   "metadata": {},
   "outputs": [
    {
     "name": "stdout",
     "output_type": "stream",
     "text": [
      "{'sequence': 'Dinosaurs cloned from ancient DNA are introduced into zoos worldwide. What legal obligations apply to their care under modern wildlife protection laws?', 'labels': ['law', 'contradiction', 'neutral'], 'scores': [0.43174779415130615, 0.38244614005088806, 0.1858060359954834]}\n",
      "Text: Dinosaurs cloned from ancient DNA are introduced into zoos worldwide. What legal obligations apply to their care under modern wildlife protection laws?\n",
      "Labels: law\n"
     ]
    }
   ],
   "source": [
    "classifier = pipeline(\"zero-shot-classification\", model='cointegrated/rubert-base-cased-nli-threeway')\n",
    "\n",
    "candidate_labels = [\"law\", \"neutral\", \"contradiction\"]\n",
    "res = classifier(hypothesis, candidate_labels)\n",
    "\n",
    "print(res)\n",
    "print(f'Text: {hypothesis}')\n",
    "print(f'Labels: {res[\"labels\"][0]}')"
   ]
  },
  {
   "cell_type": "code",
   "execution_count": null,
   "metadata": {},
   "outputs": [],
   "source": []
  }
 ],
 "metadata": {
  "kernelspec": {
   "display_name": ".venv",
   "language": "python",
   "name": "python3"
  },
  "language_info": {
   "codemirror_mode": {
    "name": "ipython",
    "version": 3
   },
   "file_extension": ".py",
   "mimetype": "text/x-python",
   "name": "python",
   "nbconvert_exporter": "python",
   "pygments_lexer": "ipython3",
   "version": "3.12.0"
  }
 },
 "nbformat": 4,
 "nbformat_minor": 2
}
