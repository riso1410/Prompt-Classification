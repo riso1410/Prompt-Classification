{
 "cells": [
  {
   "cell_type": "code",
   "execution_count": 7,
   "metadata": {},
   "outputs": [],
   "source": [
    "import pandas as pd\n",
    "import os"
   ]
  },
  {
   "cell_type": "code",
   "execution_count": 2,
   "metadata": {},
   "outputs": [],
   "source": [
    "folder_path = '../data/'"
   ]
  },
  {
   "cell_type": "markdown",
   "metadata": {},
   "source": [
    "# JSONL preparation "
   ]
  },
  {
   "cell_type": "code",
   "execution_count": null,
   "metadata": {},
   "outputs": [],
   "source": [
    "for filename in os.listdir(folder_path):\n",
    "    if filename.endswith('.jsonl'):\n",
    "        jsonl_path = os.path.join(folder_path, filename)\n",
    "        df = pd.read_json(jsonl_path, lines=True)\n",
    "\n",
    "        csv_path = os.path.join(folder_path, filename.replace('.jsonl', '.csv'))\n",
    "        df.to_csv(csv_path, index=False)"
   ]
  },
  {
   "cell_type": "code",
   "execution_count": 9,
   "metadata": {},
   "outputs": [],
   "source": [
    "law_train = pd.read_csv('../data/law-qa-train.csv')\n",
    "law_val = pd.read_csv('../data/law-qa-val.csv')\n",
    "law_test = pd.read_csv('../data/law-qa-test.csv')"
   ]
  },
  {
   "cell_type": "code",
   "execution_count": 10,
   "metadata": {},
   "outputs": [],
   "source": [
    "pd.concat([law_train, law_val, law_test]).to_csv('../data/law_domain.csv', index=False)"
   ]
  },
  {
   "cell_type": "markdown",
   "metadata": {},
   "source": [
    "# PARQUET preparation"
   ]
  },
  {
   "cell_type": "code",
   "execution_count": 3,
   "metadata": {},
   "outputs": [],
   "source": [
    "for filename in os.listdir(folder_path):\n",
    "    if filename.endswith('.parquet'):\n",
    "        parquet_path = os.path.join(folder_path, filename)\n",
    "        df = pd.read_parquet(parquet_path)\n",
    "\n",
    "        csv_path = os.path.join(folder_path, filename.replace('.parquet', '.csv'))\n",
    "        df.to_csv(csv_path, index=False)"
   ]
  },
  {
   "cell_type": "code",
   "execution_count": 8,
   "metadata": {},
   "outputs": [],
   "source": [
    "general_1 = pd.read_csv('../data/general_1.csv')\n",
    "general_2 = pd.read_csv('../data/general_2.csv')\n",
    "general_3 = pd.read_csv('../data/general_3.csv')\n",
    "general_4 = pd.read_csv('../data/general_4.csv')"
   ]
  },
  {
   "cell_type": "code",
   "execution_count": 9,
   "metadata": {},
   "outputs": [],
   "source": [
    "pd.concat([general_1, general_2, general_3, general_4]).to_csv('../data/general.csv', index=False)"
   ]
  },
  {
   "cell_type": "code",
   "execution_count": null,
   "metadata": {},
   "outputs": [],
   "source": []
  }
 ],
 "metadata": {
  "kernelspec": {
   "display_name": ".venv",
   "language": "python",
   "name": "python3"
  },
  "language_info": {
   "codemirror_mode": {
    "name": "ipython",
    "version": 3
   },
   "file_extension": ".py",
   "mimetype": "text/x-python",
   "name": "python",
   "nbconvert_exporter": "python",
   "pygments_lexer": "ipython3",
   "version": "3.12.0"
  }
 },
 "nbformat": 4,
 "nbformat_minor": 2
}
