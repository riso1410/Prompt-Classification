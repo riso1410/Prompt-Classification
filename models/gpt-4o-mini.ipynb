{
 "cells": [
  {
   "cell_type": "code",
   "execution_count": 1,
   "metadata": {},
   "outputs": [
    {
     "name": "stderr",
     "output_type": "stream",
     "text": [
      "c:\\Users\\riso\\Desktop\\Prompt-Classification\\.venv\\Lib\\site-packages\\tqdm\\auto.py:21: TqdmWarning: IProgress not found. Please update jupyter and ipywidgets. See https://ipywidgets.readthedocs.io/en/stable/user_install.html\n",
      "  from .autonotebook import tqdm as notebook_tqdm\n"
     ]
    }
   ],
   "source": [
    "import os\n",
    "import dotenv\n",
    "import dspy\n",
    "import pandas as pd\n",
    "from dspy.teleprompt import BootstrapFewShotWithRandomSearch\n",
    "from dspy.evaluate import Evaluate"
   ]
  },
  {
   "cell_type": "markdown",
   "metadata": {},
   "source": [
    "# API setup "
   ]
  },
  {
   "cell_type": "code",
   "execution_count": 2,
   "metadata": {},
   "outputs": [],
   "source": [
    "dotenv.load_dotenv()\n",
    "\n",
    "api_key = os.getenv(\"OPENAI_API_KEY\")\n",
    "proxy_url = os.getenv(\"PROXY_URL\")\n",
    "model = \"gpt-4o-mini\"\n",
    "\n",
    "if not api_key:\n",
    "    raise ValueError(\"API key not found. Please check your environment variables.\")"
   ]
  },
  {
   "cell_type": "code",
   "execution_count": 3,
   "metadata": {},
   "outputs": [],
   "source": [
    "lm = dspy.LM(\n",
    "    api_key=api_key,\n",
    "    model=model,\n",
    "    api_base=proxy_url,\n",
    "    temperature=0.0,\n",
    ")\n",
    "\n",
    "dspy.configure(lm=lm)"
   ]
  },
  {
   "cell_type": "markdown",
   "metadata": {},
   "source": [
    "# Data preparation"
   ]
  },
  {
   "cell_type": "code",
   "execution_count": 7,
   "metadata": {},
   "outputs": [],
   "source": [
    "def create_example(row: pd.Series) -> dspy.Example:\n",
    "    return dspy.Example(\n",
    "        prompt=row[\"question\"],\n",
    "        completion=row[\"answer\"],\n",
    "        label=row[\"label\"],\n",
    "    ).with_inputs(\"prompt\")"
   ]
  },
  {
   "cell_type": "code",
   "execution_count": 5,
   "metadata": {},
   "outputs": [],
   "source": [
    "open_data = pd.read_csv(\"../data/open_domain_clean.csv\", sep=\";\")\n",
    "specific_data = pd.read_csv(\"../data/specific_domain_clean.csv\", sep=\";\")"
   ]
  },
  {
   "cell_type": "code",
   "execution_count": 8,
   "metadata": {},
   "outputs": [],
   "source": [
    "open_examples = []\n",
    "specific_examples = []  \n",
    "\n",
    "for _, row in open_data.iterrows():\n",
    "    example = create_example(row=row)\n",
    "    open_examples.append(example)\n",
    "\n",
    "for _, row in specific_data.iterrows():\n",
    "    example = create_example(row=row)\n",
    "    specific_examples.append(example)"
   ]
  },
  {
   "cell_type": "markdown",
   "metadata": {},
   "source": [
    "# Signature & Module"
   ]
  },
  {
   "cell_type": "code",
   "execution_count": 9,
   "metadata": {},
   "outputs": [],
   "source": [
    "class ClasificationSignature(dspy.Signature):\n",
    "    \"\"\"Classify if a text is specific for a domain or not.\"\"\"\n",
    "\n",
    "    prompt = dspy.InputField(desc=\"The prompt to classify.\")\n",
    "\n",
    "    explanation = dspy.OutputField(desc=\"Reasoning behind the classification.\")\n",
    "    label = dspy.OutputField(desc=\"True, if the input text is domain specific, False otherwise.\")\n",
    "    \n",
    "\n",
    "class ClassificationModule(dspy.Module):\n",
    "    def __init__(self) -> None:\n",
    "        super().__init__()\n",
    "\n",
    "        self.prog = dspy.ChainOfThought(ClasificationSignature)\n",
    "        \n",
    "    def forward(self, prompt: str) -> ClasificationSignature:\n",
    "        prediction = self.prog(prompt=prompt)\n",
    "        return prediction"
   ]
  },
  {
   "cell_type": "markdown",
   "metadata": {},
   "source": [
    "# Metric & Teleprompter"
   ]
  },
  {
   "cell_type": "code",
   "execution_count": null,
   "metadata": {},
   "outputs": [],
   "source": [
    "def parse_answer(answer: str) -> bool:\n",
    "    answer = answer.lower()\n",
    "    if \"yes\" in answer or \"true\" in answer:\n",
    "        return True\n",
    "    return False"
   ]
  },
  {
   "cell_type": "code",
   "execution_count": null,
   "metadata": {},
   "outputs": [],
   "source": [
    "def comparison_metric(gold, pred, trace=None) -> bool:\n",
    "    return parse_answer(gold) == parse_answer(pred)"
   ]
  },
  {
   "cell_type": "code",
   "execution_count": null,
   "metadata": {},
   "outputs": [],
   "source": [
    "fewshot_optimizer = BootstrapFewShotWithRandomSearch(metric=comparison_metric, max_bootstrapped_demos=2, num_candidate_programs=8, num_threads=6)"
   ]
  },
  {
   "cell_type": "markdown",
   "metadata": {},
   "source": [
    "# Output "
   ]
  },
  {
   "cell_type": "code",
   "execution_count": 11,
   "metadata": {},
   "outputs": [],
   "source": [
    "output = ClassificationModule()(prompt=open_examples[0].prompt)"
   ]
  },
  {
   "cell_type": "code",
   "execution_count": 12,
   "metadata": {},
   "outputs": [
    {
     "name": "stdout",
     "output_type": "stream",
     "text": [
      "True\n"
     ]
    }
   ],
   "source": [
    "print(output.label)"
   ]
  },
  {
   "cell_type": "code",
   "execution_count": null,
   "metadata": {},
   "outputs": [],
   "source": []
  },
  {
   "cell_type": "code",
   "execution_count": null,
   "metadata": {},
   "outputs": [],
   "source": []
  }
 ],
 "metadata": {
  "kernelspec": {
   "display_name": ".venv",
   "language": "python",
   "name": "python3"
  },
  "language_info": {
   "codemirror_mode": {
    "name": "ipython",
    "version": 3
   },
   "file_extension": ".py",
   "mimetype": "text/x-python",
   "name": "python",
   "nbconvert_exporter": "python",
   "pygments_lexer": "ipython3",
   "version": "3.12.0"
  }
 },
 "nbformat": 4,
 "nbformat_minor": 2
}
