{
 "cells": [
  {
   "cell_type": "markdown",
   "metadata": {},
   "source": [
    "# TODO\n",
    "\n",
    "- nacitat a poupratat dataset v inom ntb, ulozit .csv\n",
    "- v tomto vytvorit univerzalny prompt s premennou {domain name} a {input to classify}\n",
    "- v dalsom spravit neuronku na klasifikaciu zrejme LSTM + CNN head (toto mozno) \n",
    "- SVM+TF-IDF alebo nejaky iny tradicny sposob klasifikaciu "
   ]
  },
  {
   "cell_type": "code",
   "execution_count": 8,
   "metadata": {},
   "outputs": [],
   "source": [
    "import os\n",
    "import dotenv\n",
    "import dspy\n",
    "import json\n",
    "import requests"
   ]
  },
  {
   "cell_type": "code",
   "execution_count": 3,
   "metadata": {},
   "outputs": [],
   "source": [
    "dotenv.load_dotenv()\n",
    "\n",
    "api_key = os.getenv(\"OPENAI_API_KEY\")\n",
    "proxy_url = os.getenv(\"PROXY_URL\")\n",
    "model = \"gpt-4o-mini\""
   ]
  },
  {
   "cell_type": "code",
   "execution_count": 11,
   "metadata": {},
   "outputs": [
    {
     "name": "stdout",
     "output_type": "stream",
     "text": [
      "Available models: ['gpt-4o-mini']\n"
     ]
    }
   ],
   "source": [
    "def get_models() -> list:\n",
    "    url = f'{proxy_url}models'\n",
    "    headers = {\"Content-Type\": \"application/json\", \"Authorization\": f\"Bearer {api_key}\"}\n",
    "\n",
    "    try:\n",
    "        response = requests.get(url, headers=headers)\n",
    "        response.raise_for_status()\n",
    "        models = response.json()\n",
    "        models = [model[\"id\"] for model in models[\"data\"]]\n",
    "\n",
    "        return models\n",
    "\n",
    "    except requests.exceptions.RequestException as e:\n",
    "        print(f\"An error occurred: {e}\")\n",
    "\n",
    "        return None\n",
    "\n",
    "# Example usage\n",
    "available_models = get_models()\n",
    "\n",
    "if available_models:\n",
    "    print(\"Available models:\", available_models)\n",
    "\n",
    "else:\n",
    "    print(\"Failed to retrieve models\")"
   ]
  },
  {
   "cell_type": "code",
   "execution_count": 4,
   "metadata": {},
   "outputs": [],
   "source": [
    "lm = dspy.LM(\n",
    "    api_key=api_key,\n",
    "    model=model,\n",
    "    api_base=proxy_url,\n",
    "    temperature=0.2,\n",
    ")\n",
    "\n",
    "dspy.configure(lm=lm)"
   ]
  },
  {
   "cell_type": "code",
   "execution_count": 5,
   "metadata": {},
   "outputs": [],
   "source": [
    "class ClasificationSignature(dspy.Signature):\n",
    "    \"\"\"Classify if the input text is in law domain or not. If you are not sure about the domain classify as neutral.\"\"\"\n",
    "\n",
    "    prompt = dspy.InputField(desc=\"The input text to classify.\")\n",
    "\n",
    "    explanation = dspy.OutputField(desc=\"Reasoning behind the classification.\")\n",
    "    answer = dspy.OutputField(desc=\"Yes if the input text is domain specific, No otherwise. Neutral if not sure.\")\n",
    "\n",
    "\n",
    "class ClassificationSimple(dspy.Module):\n",
    "    def __init__(self) -> None:\n",
    "        super().__init__()\n",
    "\n",
    "        self.prog = dspy.ChainOfThought(ClasificationSignature)\n",
    "    \n",
    "    def forward(self, prompt: str) -> ClasificationSignature:\n",
    "        prediction = self.prog(prompt=prompt)\n",
    "        return prediction"
   ]
  },
  {
   "cell_type": "code",
   "execution_count": 6,
   "metadata": {},
   "outputs": [
    {
     "ename": "NameError",
     "evalue": "name 'output' is not defined",
     "output_type": "error",
     "traceback": [
      "\u001b[1;31m---------------------------------------------------------------------------\u001b[0m",
      "\u001b[1;31mNameError\u001b[0m                                 Traceback (most recent call last)",
      "Cell \u001b[1;32mIn[6], line 6\u001b[0m\n\u001b[0;32m      2\u001b[0m test_answer \u001b[38;5;241m=\u001b[39m \u001b[38;5;124m'\u001b[39m\u001b[38;5;124mHistorically, the threshold for \u001b[39m\u001b[38;5;124m\"\u001b[39m\u001b[38;5;124mdoing business\u001b[39m\u001b[38;5;124m\"\u001b[39m\u001b[38;5;124m for purposes of jurisdiction was been very low. Any regular office or building used for the transaction of business would quality as would any work \u001b[39m\u001b[38;5;124m\"\u001b[39m\u001b[38;5;124mdirectly\u001b[39m\u001b[38;5;124m\"\u001b[39m\u001b[38;5;124m particularly at a state (e.g. if you did architectural work for a factory in Mississippi from your offices in Alaska, you would be \u001b[39m\u001b[38;5;124m\"\u001b[39m\u001b[38;5;124mdoing business\u001b[39m\u001b[38;5;124m\"\u001b[39m\u001b[38;5;124m in Mississippi). Also, participation in a trade show would normally constitute \u001b[39m\u001b[38;5;124m\"\u001b[39m\u001b[38;5;124mdoing business\u001b[39m\u001b[38;5;124m\"\u001b[39m\u001b[38;5;124m for a transaction arising out of the trade show. A string of recent U.S. Supreme Court cases have tended to interpret this phrase more narrowly, but so long as a lawsuit has a nexus with the instance of \u001b[39m\u001b[38;5;124m\"\u001b[39m\u001b[38;5;124mdoing business\u001b[39m\u001b[38;5;124m\"\u001b[39m\u001b[38;5;124m in a state that is in question in the lawsuit, the definition isnt that much different for most purposes. A subsidiary or affiliate companys operations in a state will ordinarily not constitute doing business in a state on behalf of the parent company under recent U.S. Supreme Court precedents. Suppose the company engaged a New York-based Plaintiff, and its representatives signed the contract with the Plaintiff in New York City. Does this satisfy the minimum presence rule? Yes. Suppose, instead, the plaintiff and contract signing were in New Jersey, but the company hired a law firm with offices in New York City. Does this qualify? This could depend upon the subject matter of the contract and where the negotiations took place.\u001b[39m\u001b[38;5;124m'\u001b[39m\n\u001b[0;32m      3\u001b[0m \u001b[38;5;66;03m#input = dspy.Example(prompt=test_query, explanation=test_answer, answer=\"Yes\").with_inputs(\"prompt\")\u001b[39;00m\n\u001b[0;32m      4\u001b[0m \u001b[38;5;66;03m#output = ClassificationSimple()(input.prompt)\u001b[39;00m\n\u001b[1;32m----> 6\u001b[0m \u001b[38;5;28mprint\u001b[39m(\u001b[43moutput\u001b[49m)\n",
      "\u001b[1;31mNameError\u001b[0m: name 'output' is not defined"
     ]
    }
   ],
   "source": [
    "test_query = 'In order to be sued in a particular jurisdiction, say New York, a company must have a minimal business presence in the jurisdiction. What constitutes such a presence? Suppose the company engaged a New York-based Plaintiff, and its representatives signed the contract with the Plaintiff in New York City. Does this satisfy the minimum presence rule? Suppose, instead, the plaintiff and contract signing were in New Jersey, but the company hired a law firm with offices in New York City. Does this qualify?'\n",
    "test_answer = 'Historically, the threshold for \"doing business\" for purposes of jurisdiction was been very low. Any regular office or building used for the transaction of business would quality as would any work \"directly\" particularly at a state (e.g. if you did architectural work for a factory in Mississippi from your offices in Alaska, you would be \"doing business\" in Mississippi). Also, participation in a trade show would normally constitute \"doing business\" for a transaction arising out of the trade show. A string of recent U.S. Supreme Court cases have tended to interpret this phrase more narrowly, but so long as a lawsuit has a nexus with the instance of \"doing business\" in a state that is in question in the lawsuit, the definition isnt that much different for most purposes. A subsidiary or affiliate companys operations in a state will ordinarily not constitute doing business in a state on behalf of the parent company under recent U.S. Supreme Court precedents. Suppose the company engaged a New York-based Plaintiff, and its representatives signed the contract with the Plaintiff in New York City. Does this satisfy the minimum presence rule? Yes. Suppose, instead, the plaintiff and contract signing were in New Jersey, but the company hired a law firm with offices in New York City. Does this qualify? This could depend upon the subject matter of the contract and where the negotiations took place.'\n",
    "\n",
    "input = dspy.Example(prompt=test_query, explanation=test_answer, answer=\"Yes\").with_inputs(\"prompt\")\n",
    "output = ClassificationSimple()(input.prompt)"
   ]
  },
  {
   "cell_type": "code",
   "execution_count": null,
   "metadata": {},
   "outputs": [],
   "source": [
    "print(output.answer)"
   ]
  }
 ],
 "metadata": {
  "kernelspec": {
   "display_name": ".venv",
   "language": "python",
   "name": "python3"
  },
  "language_info": {
   "codemirror_mode": {
    "name": "ipython",
    "version": 3
   },
   "file_extension": ".py",
   "mimetype": "text/x-python",
   "name": "python",
   "nbconvert_exporter": "python",
   "pygments_lexer": "ipython3",
   "version": "3.12.0"
  }
 },
 "nbformat": 4,
 "nbformat_minor": 2
}
